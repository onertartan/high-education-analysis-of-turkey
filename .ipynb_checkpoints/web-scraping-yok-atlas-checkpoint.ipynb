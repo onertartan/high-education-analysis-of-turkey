{
 "cells": [
  {
   "cell_type": "code",
   "execution_count": 1,
   "id": "e213c18e-8ba1-49c9-a901-5ee3598d7849",
   "metadata": {
    "tags": []
   },
   "outputs": [],
   "source": [
    "from selenium import webdriver\n",
    "from selenium.webdriver.chrome.service import Service\n",
    "from selenium.webdriver.common.by import By\n",
    "from selenium.webdriver.support.ui import Select\n",
    "from selenium.webdriver.common.action_chains import ActionChains\n",
    "from selenium.webdriver.support.ui import WebDriverWait\n",
    "from selenium.webdriver.support import expected_conditions as EC\n",
    "\n",
    "import pandas as pd\n",
    "import time"
   ]
  },
  {
   "cell_type": "markdown",
   "id": "e85db41f-2f4e-4125-825b-76363de75344",
   "metadata": {},
   "source": [
    "<p>ChromeDriver is a separate executable that Selenium WebDriver uses to control Chrome. It is maintained by the Chromium team with help from WebDriver contributors. If you are unfamiliar with Selenium WebDriver, you should check out the <a href=\"https://www.selenium.dev/\">Selenium site</a>.</p>"
   ]
  },
  {
   "cell_type": "markdown",
   "id": "701dc4bf-14d1-4a99-a971-4623357516d6",
   "metadata": {},
   "source": [
    "https://googlechromelabs.github.io/chrome-for-testing/"
   ]
  },
  {
   "cell_type": "markdown",
   "id": "2e86bdfc-6a6b-4984-8ace-4eaeb442b114",
   "metadata": {},
   "source": [
    "# 1. Create df_state_universities dataframe.\n",
    "#### Index of the dataframe is university code and the single column is the university name."
   ]
  },
  {
   "cell_type": "code",
   "execution_count": 2,
   "id": "9feaf550-727c-442d-adec-b05eb3c8673e",
   "metadata": {
    "tags": []
   },
   "outputs": [
    {
     "data": {
      "text/html": [
       "<div>\n",
       "<style scoped>\n",
       "    .dataframe tbody tr th:only-of-type {\n",
       "        vertical-align: middle;\n",
       "    }\n",
       "\n",
       "    .dataframe tbody tr th {\n",
       "        vertical-align: top;\n",
       "    }\n",
       "\n",
       "    .dataframe thead th {\n",
       "        text-align: right;\n",
       "    }\n",
       "</style>\n",
       "<table border=\"1\" class=\"dataframe\">\n",
       "  <thead>\n",
       "    <tr style=\"text-align: right;\">\n",
       "      <th></th>\n",
       "      <th>type</th>\n",
       "      <th>name</th>\n",
       "    </tr>\n",
       "    <tr>\n",
       "      <th>uni_code</th>\n",
       "      <th></th>\n",
       "      <th></th>\n",
       "    </tr>\n",
       "  </thead>\n",
       "  <tbody>\n",
       "    <tr>\n",
       "      <th>1065</th>\n",
       "      <td>Devlet</td>\n",
       "      <td>ABDULLAH GÜL ÜNİVERSİTESİ</td>\n",
       "    </tr>\n",
       "    <tr>\n",
       "      <th>1104</th>\n",
       "      <td>Devlet</td>\n",
       "      <td>ADANA ALPARSLAN TÜRKEŞ BİLİM VE TEKNOLOJİ ÜNİV...</td>\n",
       "    </tr>\n",
       "    <tr>\n",
       "      <th>1002</th>\n",
       "      <td>Devlet</td>\n",
       "      <td>ADIYAMAN ÜNİVERSİTESİ</td>\n",
       "    </tr>\n",
       "  </tbody>\n",
       "</table>\n",
       "</div>"
      ],
      "text/plain": [
       "            type                                               name\n",
       "uni_code                                                           \n",
       "1065      Devlet                          ABDULLAH GÜL ÜNİVERSİTESİ\n",
       "1104      Devlet  ADANA ALPARSLAN TÜRKEŞ BİLİM VE TEKNOLOJİ ÜNİV...\n",
       "1002      Devlet                              ADIYAMAN ÜNİVERSİTESİ"
      ]
     },
     "execution_count": 2,
     "metadata": {},
     "output_type": "execute_result"
    }
   ],
   "source": [
    "service = Service(\"chromedriver.exe\")\n",
    "driver= webdriver.Chrome(service=service)\n",
    "driver.get(\"https://yokatlas.yok.gov.tr/lisans-anasayfa.php\")\n",
    "driver.maximize_window()\n",
    "driver.implicitly_wait(5)\n",
    "optgroups = driver.find_elements(by=By.XPATH,value=\"//optgroup[@label]\")[:4]\n",
    "labels = [optgroup.get_attribute(\"label\").split()[0]   for optgroup in optgroups]\n",
    "universities = { }\n",
    " \n",
    "for label , optgroup in zip(labels,optgroups):\n",
    "    options = optgroup.find_elements (by=By.TAG_NAME,value=\"option\")\n",
    "    universities[label] = {int(option.get_attribute(\"value\")):option.get_attribute(\"innerText\").strip()  for option in options}\n",
    "df_universities =pd.DataFrame.from_dict(universities).stack().to_frame().reset_index()\n",
    "df_universities.set_index(df_universities.columns[0],inplace=True) \n",
    "df_universities.index.name = \"uni_code\"\n",
    "df_universities.columns = [\"type\",\"name\"]\n",
    "df_universities.head(3)  "
   ]
  },
  {
   "cell_type": "markdown",
   "id": "c0be630f-73af-4057-b810-68ff8bd9a618",
   "metadata": {},
   "source": [
    "# 2- Add the city column\n",
    "#### Create new data frame with columns city name and university name"
   ]
  },
  {
   "cell_type": "code",
   "execution_count": 3,
   "id": "f2767fdd-6bb0-474f-8a08-d34b5911a299",
   "metadata": {
    "tags": []
   },
   "outputs": [
    {
     "data": {
      "text/html": [
       "<div>\n",
       "<style scoped>\n",
       "    .dataframe tbody tr th:only-of-type {\n",
       "        vertical-align: middle;\n",
       "    }\n",
       "\n",
       "    .dataframe tbody tr th {\n",
       "        vertical-align: top;\n",
       "    }\n",
       "\n",
       "    .dataframe thead th {\n",
       "        text-align: right;\n",
       "    }\n",
       "</style>\n",
       "<table border=\"1\" class=\"dataframe\">\n",
       "  <thead>\n",
       "    <tr style=\"text-align: right;\">\n",
       "      <th></th>\n",
       "      <th>city</th>\n",
       "      <th>name</th>\n",
       "    </tr>\n",
       "  </thead>\n",
       "  <tbody>\n",
       "    <tr>\n",
       "      <th>0</th>\n",
       "      <td>Kayseri</td>\n",
       "      <td>ABDULLAH GÜL ÜNİVERSİTESİ</td>\n",
       "    </tr>\n",
       "    <tr>\n",
       "      <th>1</th>\n",
       "      <td>İstanbul</td>\n",
       "      <td>ACIBADEM MEHMET ALİ AYDINLAR ÜNİVERSİTESİ</td>\n",
       "    </tr>\n",
       "    <tr>\n",
       "      <th>2</th>\n",
       "      <td>Adana</td>\n",
       "      <td>ADANA ALPARSLAN TÜRKEŞ BİLİM VE TEKNOLOJİ ÜNİV...</td>\n",
       "    </tr>\n",
       "  </tbody>\n",
       "</table>\n",
       "</div>"
      ],
      "text/plain": [
       "       city                                               name\n",
       "0   Kayseri                          ABDULLAH GÜL ÜNİVERSİTESİ\n",
       "1  İstanbul          ACIBADEM MEHMET ALİ AYDINLAR ÜNİVERSİTESİ\n",
       "2     Adana  ADANA ALPARSLAN TÜRKEŞ BİLİM VE TEKNOLOJİ ÜNİV..."
      ]
     },
     "execution_count": 3,
     "metadata": {},
     "output_type": "execute_result"
    }
   ],
   "source": [
    "driver.get(\"https://yokatlas.yok.gov.tr/universite.php\")\n",
    "driver.implicitly_wait(10)\n",
    "city_web_elements = driver.find_elements(by=By.CLASS_NAME, value=\"sehir\")\n",
    "\n",
    "cities = [web_element.get_attribute(\"innerText\").strip() for web_element in city_web_elements]\n",
    "\n",
    "name_web_elements = driver.find_elements(by=By.CLASS_NAME, value=\"baslik\")\n",
    "names =[web_element.get_attribute(\"innerText\").strip() for web_element in name_web_elements]\n",
    "df_city = pd.DataFrame({\"city\":cities,\"name\":names})\n",
    "df_city.head(3)"
   ]
  },
  {
   "cell_type": "markdown",
   "id": "601883e0-34d2-4222-a1d4-b4dbc2c44896",
   "metadata": {},
   "source": [
    "Merge two dataframes: df_state_universities and df_city"
   ]
  },
  {
   "cell_type": "code",
   "execution_count": 4,
   "id": "9ba780a4-c03b-4799-9f99-23515ef91741",
   "metadata": {
    "tags": []
   },
   "outputs": [
    {
     "data": {
      "text/html": [
       "<div>\n",
       "<style scoped>\n",
       "    .dataframe tbody tr th:only-of-type {\n",
       "        vertical-align: middle;\n",
       "    }\n",
       "\n",
       "    .dataframe tbody tr th {\n",
       "        vertical-align: top;\n",
       "    }\n",
       "\n",
       "    .dataframe thead th {\n",
       "        text-align: right;\n",
       "    }\n",
       "</style>\n",
       "<table border=\"1\" class=\"dataframe\">\n",
       "  <thead>\n",
       "    <tr style=\"text-align: right;\">\n",
       "      <th></th>\n",
       "      <th>type</th>\n",
       "      <th>name</th>\n",
       "      <th>city</th>\n",
       "    </tr>\n",
       "    <tr>\n",
       "      <th>uni_code</th>\n",
       "      <th></th>\n",
       "      <th></th>\n",
       "      <th></th>\n",
       "    </tr>\n",
       "  </thead>\n",
       "  <tbody>\n",
       "    <tr>\n",
       "      <th>1065</th>\n",
       "      <td>Devlet</td>\n",
       "      <td>ABDULLAH GÜL ÜNİVERSİTESİ</td>\n",
       "      <td>Kayseri</td>\n",
       "    </tr>\n",
       "    <tr>\n",
       "      <th>1104</th>\n",
       "      <td>Devlet</td>\n",
       "      <td>ADANA ALPARSLAN TÜRKEŞ BİLİM VE TEKNOLOJİ ÜNİV...</td>\n",
       "      <td>Adana</td>\n",
       "    </tr>\n",
       "    <tr>\n",
       "      <th>1002</th>\n",
       "      <td>Devlet</td>\n",
       "      <td>ADIYAMAN ÜNİVERSİTESİ</td>\n",
       "      <td>Adıyaman</td>\n",
       "    </tr>\n",
       "  </tbody>\n",
       "</table>\n",
       "</div>"
      ],
      "text/plain": [
       "            type                                               name      city\n",
       "uni_code                                                                     \n",
       "1065      Devlet                          ABDULLAH GÜL ÜNİVERSİTESİ   Kayseri\n",
       "1104      Devlet  ADANA ALPARSLAN TÜRKEŞ BİLİM VE TEKNOLOJİ ÜNİV...     Adana\n",
       "1002      Devlet                              ADIYAMAN ÜNİVERSİTESİ  Adıyaman"
      ]
     },
     "execution_count": 4,
     "metadata": {},
     "output_type": "execute_result"
    }
   ],
   "source": [
    "df_universities=df_universities.reset_index().merge(df_city, on=\"name\", how='left').set_index(\"uni_code\")\n",
    "df_universities.head(3)"
   ]
  },
  {
   "cell_type": "code",
   "execution_count": 5,
   "id": "af324c54-e5eb-4c39-8a8c-e478f25ec94d",
   "metadata": {
    "tags": []
   },
   "outputs": [
    {
     "data": {
      "text/plain": [
       "(224, 3)"
      ]
     },
     "execution_count": 5,
     "metadata": {},
     "output_type": "execute_result"
    }
   ],
   "source": [
    "df_universities.shape"
   ]
  },
  {
   "cell_type": "code",
   "execution_count": 6,
   "id": "3b393185-3ee3-40e0-b565-973088b22bd4",
   "metadata": {
    "tags": []
   },
   "outputs": [],
   "source": [
    "df_universities.to_csv(\"df_universities.csv\")"
   ]
  },
  {
   "cell_type": "markdown",
   "id": "150047cc-f862-4e06-8529-17a1f134aa49",
   "metadata": {},
   "source": [
    "# 3- Create df_quota \n",
    "### df_quota includes all departments and their quota/enrollments "
   ]
  },
  {
   "cell_type": "code",
   "execution_count": 7,
   "id": "49c82622-e05d-493f-85f3-d8506b422fed",
   "metadata": {
    "tags": []
   },
   "outputs": [],
   "source": [
    "base_url = \"https://yokatlas.yok.gov.tr/lisans-univ.php?u=\""
   ]
  },
  {
   "cell_type": "code",
   "execution_count": 8,
   "id": "ce16896a-980a-4a70-b152-f1fc076dac70",
   "metadata": {},
   "outputs": [],
   "source": [
    "def get_department_names(driver,base_url, uni_codes):\n",
    "    department_names = set()\n",
    "    for uni_code in uni_codes:\n",
    "        driver.get(base_url + str(uni_code) )  \n",
    "        driver.implicitly_wait(2)\n",
    "        divs_departments =  driver.find_elements(by=By.XPATH, value=\"//a[@data-parent='#']/div\")\n",
    "        for div_department  in divs_departments:\n",
    "            department_name = div_department.get_attribute(\"innerText\")\n",
    "            if \"KKTC\" not in department_name:\n",
    "                department_names.add(department_name) \n",
    "                \n",
    "    return department_names    "
   ]
  },
  {
   "cell_type": "code",
   "execution_count": 9,
   "id": "92d110c4-dc0a-4ac8-a5fe-dcfd21f901f0",
   "metadata": {
    "tags": []
   },
   "outputs": [
    {
     "data": {
      "text/html": [
       "<div>\n",
       "<style scoped>\n",
       "    .dataframe tbody tr th:only-of-type {\n",
       "        vertical-align: middle;\n",
       "    }\n",
       "\n",
       "    .dataframe tbody tr th {\n",
       "        vertical-align: top;\n",
       "    }\n",
       "\n",
       "    .dataframe thead th {\n",
       "        text-align: right;\n",
       "    }\n",
       "</style>\n",
       "<table border=\"1\" class=\"dataframe\">\n",
       "  <thead>\n",
       "    <tr style=\"text-align: right;\">\n",
       "      <th></th>\n",
       "      <th>type</th>\n",
       "      <th>name</th>\n",
       "      <th>city</th>\n",
       "    </tr>\n",
       "    <tr>\n",
       "      <th>uni_code</th>\n",
       "      <th></th>\n",
       "      <th></th>\n",
       "      <th></th>\n",
       "    </tr>\n",
       "  </thead>\n",
       "  <tbody>\n",
       "    <tr>\n",
       "      <th>1065</th>\n",
       "      <td>Devlet</td>\n",
       "      <td>ABDULLAH GÜL ÜNİVERSİTESİ</td>\n",
       "      <td>Kayseri</td>\n",
       "    </tr>\n",
       "    <tr>\n",
       "      <th>1104</th>\n",
       "      <td>Devlet</td>\n",
       "      <td>ADANA ALPARSLAN TÜRKEŞ BİLİM VE TEKNOLOJİ ÜNİV...</td>\n",
       "      <td>Adana</td>\n",
       "    </tr>\n",
       "    <tr>\n",
       "      <th>1002</th>\n",
       "      <td>Devlet</td>\n",
       "      <td>ADIYAMAN ÜNİVERSİTESİ</td>\n",
       "      <td>Adıyaman</td>\n",
       "    </tr>\n",
       "  </tbody>\n",
       "</table>\n",
       "</div>"
      ],
      "text/plain": [
       "            type                                               name      city\n",
       "uni_code                                                                     \n",
       "1065      Devlet                          ABDULLAH GÜL ÜNİVERSİTESİ   Kayseri\n",
       "1104      Devlet  ADANA ALPARSLAN TÜRKEŞ BİLİM VE TEKNOLOJİ ÜNİV...     Adana\n",
       "1002      Devlet                              ADIYAMAN ÜNİVERSİTESİ  Adıyaman"
      ]
     },
     "execution_count": 9,
     "metadata": {},
     "output_type": "execute_result"
    }
   ],
   "source": [
    " df_universities.head(3)"
   ]
  },
  {
   "cell_type": "code",
   "execution_count": 10,
   "id": "6212e078-0e04-485e-8ad2-af54b2d29b9c",
   "metadata": {
    "tags": []
   },
   "outputs": [
    {
     "data": {
      "text/plain": [
       "1545"
      ]
     },
     "execution_count": 10,
     "metadata": {},
     "output_type": "execute_result"
    }
   ],
   "source": [
    "department_names = get_department_names(driver,base_url, df_universities.index)\n",
    "len(department_names)"
   ]
  },
  {
   "cell_type": "code",
   "execution_count": 11,
   "id": "a96a9d4d-3087-4bf6-8e0b-a30a0cc779c1",
   "metadata": {
    "tags": []
   },
   "outputs": [
    {
     "data": {
      "text/html": [
       "<div>\n",
       "<style scoped>\n",
       "    .dataframe tbody tr th:only-of-type {\n",
       "        vertical-align: middle;\n",
       "    }\n",
       "\n",
       "    .dataframe tbody tr th {\n",
       "        vertical-align: top;\n",
       "    }\n",
       "\n",
       "    .dataframe thead th {\n",
       "        text-align: right;\n",
       "    }\n",
       "</style>\n",
       "<table border=\"1\" class=\"dataframe\">\n",
       "  <thead>\n",
       "    <tr style=\"text-align: right;\">\n",
       "      <th></th>\n",
       "      <th>uni_code</th>\n",
       "      <th>1065</th>\n",
       "      <th>1104</th>\n",
       "      <th>1002</th>\n",
       "      <th>1004</th>\n",
       "      <th>1126</th>\n",
       "      <th>1005</th>\n",
       "      <th>1007</th>\n",
       "      <th>1008</th>\n",
       "      <th>1105</th>\n",
       "      <th>1009</th>\n",
       "      <th>...</th>\n",
       "      <th>3004</th>\n",
       "      <th>3005</th>\n",
       "      <th>4011</th>\n",
       "      <th>4013</th>\n",
       "      <th>4017</th>\n",
       "      <th>4020</th>\n",
       "      <th>4039</th>\n",
       "      <th>4052</th>\n",
       "      <th>4096</th>\n",
       "      <th>4088</th>\n",
       "    </tr>\n",
       "  </thead>\n",
       "  <tbody>\n",
       "    <tr>\n",
       "      <th rowspan=\"2\" valign=\"top\">Acil Yardım ve Afet Yönetimi</th>\n",
       "      <th>quota</th>\n",
       "      <td>NaN</td>\n",
       "      <td>NaN</td>\n",
       "      <td>NaN</td>\n",
       "      <td>NaN</td>\n",
       "      <td>NaN</td>\n",
       "      <td>NaN</td>\n",
       "      <td>NaN</td>\n",
       "      <td>NaN</td>\n",
       "      <td>NaN</td>\n",
       "      <td>NaN</td>\n",
       "      <td>...</td>\n",
       "      <td>NaN</td>\n",
       "      <td>NaN</td>\n",
       "      <td>NaN</td>\n",
       "      <td>NaN</td>\n",
       "      <td>NaN</td>\n",
       "      <td>NaN</td>\n",
       "      <td>NaN</td>\n",
       "      <td>NaN</td>\n",
       "      <td>NaN</td>\n",
       "      <td>NaN</td>\n",
       "    </tr>\n",
       "    <tr>\n",
       "      <th>enrollments</th>\n",
       "      <td>NaN</td>\n",
       "      <td>NaN</td>\n",
       "      <td>NaN</td>\n",
       "      <td>NaN</td>\n",
       "      <td>NaN</td>\n",
       "      <td>NaN</td>\n",
       "      <td>NaN</td>\n",
       "      <td>NaN</td>\n",
       "      <td>NaN</td>\n",
       "      <td>NaN</td>\n",
       "      <td>...</td>\n",
       "      <td>NaN</td>\n",
       "      <td>NaN</td>\n",
       "      <td>NaN</td>\n",
       "      <td>NaN</td>\n",
       "      <td>NaN</td>\n",
       "      <td>NaN</td>\n",
       "      <td>NaN</td>\n",
       "      <td>NaN</td>\n",
       "      <td>NaN</td>\n",
       "      <td>NaN</td>\n",
       "    </tr>\n",
       "    <tr>\n",
       "      <th rowspan=\"2\" valign=\"top\">Acil Yardım ve Afet Yönetimi (İngilizce) (%50 İndirimli)</th>\n",
       "      <th>quota</th>\n",
       "      <td>NaN</td>\n",
       "      <td>NaN</td>\n",
       "      <td>NaN</td>\n",
       "      <td>NaN</td>\n",
       "      <td>NaN</td>\n",
       "      <td>NaN</td>\n",
       "      <td>NaN</td>\n",
       "      <td>NaN</td>\n",
       "      <td>NaN</td>\n",
       "      <td>NaN</td>\n",
       "      <td>...</td>\n",
       "      <td>NaN</td>\n",
       "      <td>NaN</td>\n",
       "      <td>NaN</td>\n",
       "      <td>NaN</td>\n",
       "      <td>NaN</td>\n",
       "      <td>NaN</td>\n",
       "      <td>NaN</td>\n",
       "      <td>NaN</td>\n",
       "      <td>NaN</td>\n",
       "      <td>NaN</td>\n",
       "    </tr>\n",
       "    <tr>\n",
       "      <th>enrollments</th>\n",
       "      <td>NaN</td>\n",
       "      <td>NaN</td>\n",
       "      <td>NaN</td>\n",
       "      <td>NaN</td>\n",
       "      <td>NaN</td>\n",
       "      <td>NaN</td>\n",
       "      <td>NaN</td>\n",
       "      <td>NaN</td>\n",
       "      <td>NaN</td>\n",
       "      <td>NaN</td>\n",
       "      <td>...</td>\n",
       "      <td>NaN</td>\n",
       "      <td>NaN</td>\n",
       "      <td>NaN</td>\n",
       "      <td>NaN</td>\n",
       "      <td>NaN</td>\n",
       "      <td>NaN</td>\n",
       "      <td>NaN</td>\n",
       "      <td>NaN</td>\n",
       "      <td>NaN</td>\n",
       "      <td>NaN</td>\n",
       "    </tr>\n",
       "    <tr>\n",
       "      <th>Acil Yardım ve Afet Yönetimi (İngilizce) (Burslu)</th>\n",
       "      <th>quota</th>\n",
       "      <td>NaN</td>\n",
       "      <td>NaN</td>\n",
       "      <td>NaN</td>\n",
       "      <td>NaN</td>\n",
       "      <td>NaN</td>\n",
       "      <td>NaN</td>\n",
       "      <td>NaN</td>\n",
       "      <td>NaN</td>\n",
       "      <td>NaN</td>\n",
       "      <td>NaN</td>\n",
       "      <td>...</td>\n",
       "      <td>NaN</td>\n",
       "      <td>NaN</td>\n",
       "      <td>NaN</td>\n",
       "      <td>NaN</td>\n",
       "      <td>NaN</td>\n",
       "      <td>NaN</td>\n",
       "      <td>NaN</td>\n",
       "      <td>NaN</td>\n",
       "      <td>NaN</td>\n",
       "      <td>NaN</td>\n",
       "    </tr>\n",
       "  </tbody>\n",
       "</table>\n",
       "<p>5 rows × 224 columns</p>\n",
       "</div>"
      ],
      "text/plain": [
       "uni_code                                                       1065 1104 1002  \\\n",
       "Acil Yardım ve Afet Yönetimi                       quota        NaN  NaN  NaN   \n",
       "                                                   enrollments  NaN  NaN  NaN   \n",
       "Acil Yardım ve Afet Yönetimi (İngilizce) (%50 İ... quota        NaN  NaN  NaN   \n",
       "                                                   enrollments  NaN  NaN  NaN   \n",
       "Acil Yardım ve Afet Yönetimi (İngilizce) (Burslu)  quota        NaN  NaN  NaN   \n",
       "\n",
       "uni_code                                                       1004 1126 1005  \\\n",
       "Acil Yardım ve Afet Yönetimi                       quota        NaN  NaN  NaN   \n",
       "                                                   enrollments  NaN  NaN  NaN   \n",
       "Acil Yardım ve Afet Yönetimi (İngilizce) (%50 İ... quota        NaN  NaN  NaN   \n",
       "                                                   enrollments  NaN  NaN  NaN   \n",
       "Acil Yardım ve Afet Yönetimi (İngilizce) (Burslu)  quota        NaN  NaN  NaN   \n",
       "\n",
       "uni_code                                                       1007 1008 1105  \\\n",
       "Acil Yardım ve Afet Yönetimi                       quota        NaN  NaN  NaN   \n",
       "                                                   enrollments  NaN  NaN  NaN   \n",
       "Acil Yardım ve Afet Yönetimi (İngilizce) (%50 İ... quota        NaN  NaN  NaN   \n",
       "                                                   enrollments  NaN  NaN  NaN   \n",
       "Acil Yardım ve Afet Yönetimi (İngilizce) (Burslu)  quota        NaN  NaN  NaN   \n",
       "\n",
       "uni_code                                                       1009  ... 3004  \\\n",
       "Acil Yardım ve Afet Yönetimi                       quota        NaN  ...  NaN   \n",
       "                                                   enrollments  NaN  ...  NaN   \n",
       "Acil Yardım ve Afet Yönetimi (İngilizce) (%50 İ... quota        NaN  ...  NaN   \n",
       "                                                   enrollments  NaN  ...  NaN   \n",
       "Acil Yardım ve Afet Yönetimi (İngilizce) (Burslu)  quota        NaN  ...  NaN   \n",
       "\n",
       "uni_code                                                       3005 4011 4013  \\\n",
       "Acil Yardım ve Afet Yönetimi                       quota        NaN  NaN  NaN   \n",
       "                                                   enrollments  NaN  NaN  NaN   \n",
       "Acil Yardım ve Afet Yönetimi (İngilizce) (%50 İ... quota        NaN  NaN  NaN   \n",
       "                                                   enrollments  NaN  NaN  NaN   \n",
       "Acil Yardım ve Afet Yönetimi (İngilizce) (Burslu)  quota        NaN  NaN  NaN   \n",
       "\n",
       "uni_code                                                       4017 4020 4039  \\\n",
       "Acil Yardım ve Afet Yönetimi                       quota        NaN  NaN  NaN   \n",
       "                                                   enrollments  NaN  NaN  NaN   \n",
       "Acil Yardım ve Afet Yönetimi (İngilizce) (%50 İ... quota        NaN  NaN  NaN   \n",
       "                                                   enrollments  NaN  NaN  NaN   \n",
       "Acil Yardım ve Afet Yönetimi (İngilizce) (Burslu)  quota        NaN  NaN  NaN   \n",
       "\n",
       "uni_code                                                       4052 4096 4088  \n",
       "Acil Yardım ve Afet Yönetimi                       quota        NaN  NaN  NaN  \n",
       "                                                   enrollments  NaN  NaN  NaN  \n",
       "Acil Yardım ve Afet Yönetimi (İngilizce) (%50 İ... quota        NaN  NaN  NaN  \n",
       "                                                   enrollments  NaN  NaN  NaN  \n",
       "Acil Yardım ve Afet Yönetimi (İngilizce) (Burslu)  quota        NaN  NaN  NaN  \n",
       "\n",
       "[5 rows x 224 columns]"
      ]
     },
     "execution_count": 11,
     "metadata": {},
     "output_type": "execute_result"
    }
   ],
   "source": [
    "department_names = list(department_names)\n",
    "department_names.sort()\n",
    "midx = pd.MultiIndex.from_product([ department_names, [\"quota\",\"enrollments\"]  ]) \n",
    "df_quota = pd.DataFrame(index = midx,columns=df_universities.index)\n",
    "df_quota.head()"
   ]
  },
  {
   "cell_type": "code",
   "execution_count": 12,
   "id": "ee0d37d2-455f-4b34-9376-83d2b436c160",
   "metadata": {
    "tags": []
   },
   "outputs": [],
   "source": [
    "def get_quota_not_enrolled(driver):\n",
    "    try:\n",
    "        pop_up_element_xpath = \"//span[@class='featherlight-close-icon featherlight-close']\"\n",
    "        WebDriverWait(driver,30).until( EC.presence_of_element_located((By.XPATH,pop_up_element_xpath) )  )\n",
    "        driver.implicitly_wait(5)\n",
    "        pop_ups = driver.find_elements(by=By.XPATH, value=pop_up_element_xpath)\n",
    "        for i in range(len(pop_ups)-1,-1,-1): # close pop-ups\n",
    "            pop_ups[i].click() \n",
    "    except:\n",
    "        pass\n",
    "    WebDriverWait(driver, 30).until( EC.presence_of_element_located((By.XPATH,\"//*[contains(text(),'Genel Bilgiler')]\") )  ).click()\n",
    "    td = WebDriverWait(driver, 30).until( EC.presence_of_element_located((By.XPATH,\"//td/strong[contains(text(),'Toplam Kontenjan')]\") )  )\n",
    "    tr_parent=WebDriverWait(td, 30).until( EC.presence_of_element_located((By.XPATH,\"./../..\") ) )\n",
    "    WebDriverWait(tr_parent, 30).until( EC.presence_of_element_located((By.TAG_NAME,\"td\") ) )\n",
    "    tds = tr_parent.find_elements(by=By.TAG_NAME, value=\"td\")\n",
    "    \n",
    "    WebDriverWait(tds[1], 30).until( EC.presence_of_element_located((By.TAG_NAME,\"strong\") )  )                                   \n",
    "    quota = tds[1].find_element(by=By.TAG_NAME,value='strong').get_attribute(\"innerText\")\n",
    "    td = WebDriverWait(driver, 30).until( EC.presence_of_element_located((By.XPATH,\"//td[contains(text(),'Boş Kalan Kontenjan')]\") )  )\n",
    "    \n",
    "    tr= WebDriverWait(td, 30).until( EC.presence_of_element_located((By.XPATH,\"..\") )  )# td.find_element(by=By.XPATH, value=\"..\")\n",
    "    tds = tr.find_elements(by=By.TAG_NAME, value=\"td\")\n",
    "    not_enrolled = tds[1].get_attribute(\"innerText\")\n",
    "    \n",
    "    return quota, not_enrolled"
   ]
  },
  {
   "cell_type": "code",
   "execution_count": 14,
   "id": "26bb1ea5-a7a1-45f9-bddd-2ecf5296af4d",
   "metadata": {
    "tags": []
   },
   "outputs": [],
   "source": [
    "def get_department_anchors_divs(driver):\n",
    "    time.sleep(5)\n",
    "    driver.implicitly_wait(30)\n",
    "    anchors          =  driver.find_elements(by=By.XPATH, value=\"//a[@data-parent='#']\") #links to departments\n",
    "    time.sleep(5)\n",
    "    driver.implicitly_wait(30)\n",
    "    divs_departments =  driver.find_elements(by=By.XPATH, value=\"//a[@data-parent='#']/div\")\n",
    "    return anchors, divs_departments"
   ]
  },
  {
   "cell_type": "code",
   "execution_count": 20,
   "id": "b95d3322-c318-42be-819f-797d1c646a87",
   "metadata": {
    "tags": []
   },
   "outputs": [],
   "source": [
    "def create_df_quota(driver, df_quota,uni_code):\n",
    "    driver.get(base_url + str(uni_code) )\n",
    "   \n",
    "    anchors, divs_departments = get_department_anchors_divs(driver)\n",
    "    for anchor,div_department in zip(anchors, divs_departments):\n",
    "        result=False\n",
    "        while not result:\n",
    "            time.sleep(1)\n",
    "            try:               \n",
    "                department_name = div_department.get_attribute(\"innerText\").strip()  \n",
    "                result=True\n",
    "            except:\n",
    "                print(\"Failed to get department name. uni_code:\",uni_code)\n",
    "                create_df_quota(driver, df_quota,uni_code) #recursive call to restart scraping the same page\n",
    "   \n",
    "        if \"KKTC\" not in department_name:         \n",
    "            driver.get(anchor.get_attribute(\"href\"))\n",
    "            driver.implicitly_wait(30)  \n",
    "            quota, not_enrolled =  get_quota_not_enrolled(driver)           \n",
    "            df_quota.loc[department_name,\"quota\"][uni_code] = int(quota)\n",
    "            df_quota.loc[department_name,\"enrollments\"][uni_code] = int(quota)-int(not_enrolled)\n",
    "            #print(department_name,\"int(quota)\",int(quota),\" int(quota)-int(not_enrolled)\", int(quota)-int(not_enrolled))    \n",
    "            driver.implicitly_wait(30)\n",
    "            driver.back()        "
   ]
  },
  {
   "cell_type": "code",
   "execution_count": 23,
   "id": "04b89fd4-fd8a-45d2-b811-13df054845e7",
   "metadata": {
    "tags": []
   },
   "outputs": [
    {
     "ename": "TimeoutException",
     "evalue": "Message: \nStacktrace:\n\tGetHandleVerifier [0x00007FF62340AD32+56930]\n\t(No symbol) [0x00007FF62337F632]\n\t(No symbol) [0x00007FF6232342E5]\n\t(No symbol) [0x00007FF6232798ED]\n\t(No symbol) [0x00007FF623279A2C]\n\t(No symbol) [0x00007FF6232BA967]\n\t(No symbol) [0x00007FF62329BCDF]\n\t(No symbol) [0x00007FF6232B81E2]\n\t(No symbol) [0x00007FF62329BA43]\n\t(No symbol) [0x00007FF62326D438]\n\t(No symbol) [0x00007FF62326E4D1]\n\tGetHandleVerifier [0x00007FF623786ABD+3709933]\n\tGetHandleVerifier [0x00007FF6237DFFFD+4075821]\n\tGetHandleVerifier [0x00007FF6237D818F+4043455]\n\tGetHandleVerifier [0x00007FF6234A9766+706710]\n\t(No symbol) [0x00007FF62338B90F]\n\t(No symbol) [0x00007FF623386AF4]\n\t(No symbol) [0x00007FF623386C4C]\n\t(No symbol) [0x00007FF623376904]\n\tBaseThreadInitThunk [0x00007FF8EFB0257D+29]\n\tRtlUserThreadStart [0x00007FF8F17EAA58+40]\n",
     "output_type": "error",
     "traceback": [
      "\u001b[1;31m---------------------------------------------------------------------------\u001b[0m",
      "\u001b[1;31mTimeoutException\u001b[0m                          Traceback (most recent call last)",
      "\u001b[1;32m~\\AppData\\Local\\Temp\\ipykernel_19416\\3134744979.py\u001b[0m in \u001b[0;36m<module>\u001b[1;34m\u001b[0m\n\u001b[0;32m      1\u001b[0m \u001b[1;32mfor\u001b[0m \u001b[0muni_code\u001b[0m \u001b[1;32min\u001b[0m \u001b[0mdf_universities\u001b[0m\u001b[1;33m.\u001b[0m\u001b[0mindex\u001b[0m\u001b[1;33m:\u001b[0m \u001b[1;31m#list(uni_codes):#\u001b[0m\u001b[1;33m\u001b[0m\u001b[1;33m\u001b[0m\u001b[0m\n\u001b[1;32m----> 2\u001b[1;33m     \u001b[0mcreate_df_quota\u001b[0m\u001b[1;33m(\u001b[0m\u001b[0mdriver\u001b[0m\u001b[1;33m,\u001b[0m \u001b[0mdf_quota\u001b[0m\u001b[1;33m,\u001b[0m\u001b[0muni_code\u001b[0m\u001b[1;33m)\u001b[0m\u001b[1;33m\u001b[0m\u001b[1;33m\u001b[0m\u001b[0m\n\u001b[0m",
      "\u001b[1;32m~\\AppData\\Local\\Temp\\ipykernel_19416\\3319266649.py\u001b[0m in \u001b[0;36mcreate_df_quota\u001b[1;34m(driver, df_quota, uni_code)\u001b[0m\n\u001b[0;32m     17\u001b[0m             \u001b[0mdriver\u001b[0m\u001b[1;33m.\u001b[0m\u001b[0mget\u001b[0m\u001b[1;33m(\u001b[0m\u001b[0manchor\u001b[0m\u001b[1;33m.\u001b[0m\u001b[0mget_attribute\u001b[0m\u001b[1;33m(\u001b[0m\u001b[1;34m\"href\"\u001b[0m\u001b[1;33m)\u001b[0m\u001b[1;33m)\u001b[0m\u001b[1;33m\u001b[0m\u001b[1;33m\u001b[0m\u001b[0m\n\u001b[0;32m     18\u001b[0m             \u001b[0mdriver\u001b[0m\u001b[1;33m.\u001b[0m\u001b[0mimplicitly_wait\u001b[0m\u001b[1;33m(\u001b[0m\u001b[1;36m10\u001b[0m\u001b[1;33m)\u001b[0m\u001b[1;33m\u001b[0m\u001b[1;33m\u001b[0m\u001b[0m\n\u001b[1;32m---> 19\u001b[1;33m             \u001b[0mquota\u001b[0m\u001b[1;33m,\u001b[0m \u001b[0mnot_enrolled\u001b[0m \u001b[1;33m=\u001b[0m  \u001b[0mget_quota_not_enrolled\u001b[0m\u001b[1;33m(\u001b[0m\u001b[0mdriver\u001b[0m\u001b[1;33m)\u001b[0m\u001b[1;33m\u001b[0m\u001b[1;33m\u001b[0m\u001b[0m\n\u001b[0m\u001b[0;32m     20\u001b[0m             \u001b[0mdf_quota\u001b[0m\u001b[1;33m.\u001b[0m\u001b[0mloc\u001b[0m\u001b[1;33m[\u001b[0m\u001b[0mdepartment_name\u001b[0m\u001b[1;33m,\u001b[0m\u001b[1;34m\"quota\"\u001b[0m\u001b[1;33m]\u001b[0m\u001b[1;33m[\u001b[0m\u001b[0muni_code\u001b[0m\u001b[1;33m]\u001b[0m \u001b[1;33m=\u001b[0m \u001b[0mint\u001b[0m\u001b[1;33m(\u001b[0m\u001b[0mquota\u001b[0m\u001b[1;33m)\u001b[0m\u001b[1;33m\u001b[0m\u001b[1;33m\u001b[0m\u001b[0m\n\u001b[0;32m     21\u001b[0m             \u001b[0mdf_quota\u001b[0m\u001b[1;33m.\u001b[0m\u001b[0mloc\u001b[0m\u001b[1;33m[\u001b[0m\u001b[0mdepartment_name\u001b[0m\u001b[1;33m,\u001b[0m\u001b[1;34m\"enrollments\"\u001b[0m\u001b[1;33m]\u001b[0m\u001b[1;33m[\u001b[0m\u001b[0muni_code\u001b[0m\u001b[1;33m]\u001b[0m \u001b[1;33m=\u001b[0m \u001b[0mint\u001b[0m\u001b[1;33m(\u001b[0m\u001b[0mquota\u001b[0m\u001b[1;33m)\u001b[0m\u001b[1;33m-\u001b[0m\u001b[0mint\u001b[0m\u001b[1;33m(\u001b[0m\u001b[0mnot_enrolled\u001b[0m\u001b[1;33m)\u001b[0m\u001b[1;33m\u001b[0m\u001b[1;33m\u001b[0m\u001b[0m\n",
      "\u001b[1;32m~\\AppData\\Local\\Temp\\ipykernel_19416\\1712107512.py\u001b[0m in \u001b[0;36mget_quota_not_enrolled\u001b[1;34m(driver)\u001b[0m\n\u001b[0;32m     11\u001b[0m     \u001b[0mWebDriverWait\u001b[0m\u001b[1;33m(\u001b[0m\u001b[0mdriver\u001b[0m\u001b[1;33m,\u001b[0m \u001b[1;36m10\u001b[0m\u001b[1;33m)\u001b[0m\u001b[1;33m.\u001b[0m\u001b[0muntil\u001b[0m\u001b[1;33m(\u001b[0m \u001b[0mEC\u001b[0m\u001b[1;33m.\u001b[0m\u001b[0mpresence_of_element_located\u001b[0m\u001b[1;33m(\u001b[0m\u001b[1;33m(\u001b[0m\u001b[0mBy\u001b[0m\u001b[1;33m.\u001b[0m\u001b[0mXPATH\u001b[0m\u001b[1;33m,\u001b[0m\u001b[1;34m\"//*[contains(text(),'Genel Bilgiler')]\"\u001b[0m\u001b[1;33m)\u001b[0m \u001b[1;33m)\u001b[0m  \u001b[1;33m)\u001b[0m\u001b[1;33m.\u001b[0m\u001b[0mclick\u001b[0m\u001b[1;33m(\u001b[0m\u001b[1;33m)\u001b[0m\u001b[1;33m\u001b[0m\u001b[1;33m\u001b[0m\u001b[0m\n\u001b[0;32m     12\u001b[0m \u001b[1;31m#    driver.implicitly_wait(5)\u001b[0m\u001b[1;33m\u001b[0m\u001b[1;33m\u001b[0m\u001b[0m\n\u001b[1;32m---> 13\u001b[1;33m     \u001b[0mtd\u001b[0m \u001b[1;33m=\u001b[0m \u001b[0mWebDriverWait\u001b[0m\u001b[1;33m(\u001b[0m\u001b[0mdriver\u001b[0m\u001b[1;33m,\u001b[0m \u001b[1;36m10\u001b[0m\u001b[1;33m)\u001b[0m\u001b[1;33m.\u001b[0m\u001b[0muntil\u001b[0m\u001b[1;33m(\u001b[0m \u001b[0mEC\u001b[0m\u001b[1;33m.\u001b[0m\u001b[0mpresence_of_element_located\u001b[0m\u001b[1;33m(\u001b[0m\u001b[1;33m(\u001b[0m\u001b[0mBy\u001b[0m\u001b[1;33m.\u001b[0m\u001b[0mXPATH\u001b[0m\u001b[1;33m,\u001b[0m\u001b[1;34m\"//td/strong[contains(text(),'Toplam Kontenjan')]\"\u001b[0m\u001b[1;33m)\u001b[0m \u001b[1;33m)\u001b[0m  \u001b[1;33m)\u001b[0m\u001b[1;33m\u001b[0m\u001b[1;33m\u001b[0m\u001b[0m\n\u001b[0m\u001b[0;32m     14\u001b[0m     \u001b[0mtr_parent\u001b[0m\u001b[1;33m=\u001b[0m\u001b[0mWebDriverWait\u001b[0m\u001b[1;33m(\u001b[0m\u001b[0mtd\u001b[0m\u001b[1;33m,\u001b[0m \u001b[1;36m10\u001b[0m\u001b[1;33m)\u001b[0m\u001b[1;33m.\u001b[0m\u001b[0muntil\u001b[0m\u001b[1;33m(\u001b[0m \u001b[0mEC\u001b[0m\u001b[1;33m.\u001b[0m\u001b[0mpresence_of_element_located\u001b[0m\u001b[1;33m(\u001b[0m\u001b[1;33m(\u001b[0m\u001b[0mBy\u001b[0m\u001b[1;33m.\u001b[0m\u001b[0mXPATH\u001b[0m\u001b[1;33m,\u001b[0m\u001b[1;34m\"./../..\"\u001b[0m\u001b[1;33m)\u001b[0m \u001b[1;33m)\u001b[0m \u001b[1;33m)\u001b[0m\u001b[1;33m\u001b[0m\u001b[1;33m\u001b[0m\u001b[0m\n\u001b[0;32m     15\u001b[0m     \u001b[1;31m#tr_parent= td.find_element(by=By.XPATH, value=\"./../..\")\u001b[0m\u001b[1;33m\u001b[0m\u001b[1;33m\u001b[0m\u001b[0m\n",
      "\u001b[1;32m~\\anaconda3\\lib\\site-packages\\selenium\\webdriver\\support\\wait.py\u001b[0m in \u001b[0;36muntil\u001b[1;34m(self, method, message)\u001b[0m\n\u001b[0;32m     93\u001b[0m             \u001b[1;32mif\u001b[0m \u001b[0mtime\u001b[0m\u001b[1;33m.\u001b[0m\u001b[0mmonotonic\u001b[0m\u001b[1;33m(\u001b[0m\u001b[1;33m)\u001b[0m \u001b[1;33m>\u001b[0m \u001b[0mend_time\u001b[0m\u001b[1;33m:\u001b[0m\u001b[1;33m\u001b[0m\u001b[1;33m\u001b[0m\u001b[0m\n\u001b[0;32m     94\u001b[0m                 \u001b[1;32mbreak\u001b[0m\u001b[1;33m\u001b[0m\u001b[1;33m\u001b[0m\u001b[0m\n\u001b[1;32m---> 95\u001b[1;33m         \u001b[1;32mraise\u001b[0m \u001b[0mTimeoutException\u001b[0m\u001b[1;33m(\u001b[0m\u001b[0mmessage\u001b[0m\u001b[1;33m,\u001b[0m \u001b[0mscreen\u001b[0m\u001b[1;33m,\u001b[0m \u001b[0mstacktrace\u001b[0m\u001b[1;33m)\u001b[0m\u001b[1;33m\u001b[0m\u001b[1;33m\u001b[0m\u001b[0m\n\u001b[0m\u001b[0;32m     96\u001b[0m \u001b[1;33m\u001b[0m\u001b[0m\n\u001b[0;32m     97\u001b[0m     \u001b[1;32mdef\u001b[0m \u001b[0muntil_not\u001b[0m\u001b[1;33m(\u001b[0m\u001b[0mself\u001b[0m\u001b[1;33m,\u001b[0m \u001b[0mmethod\u001b[0m\u001b[1;33m,\u001b[0m \u001b[0mmessage\u001b[0m\u001b[1;33m:\u001b[0m \u001b[0mstr\u001b[0m \u001b[1;33m=\u001b[0m \u001b[1;34m\"\"\u001b[0m\u001b[1;33m)\u001b[0m\u001b[1;33m:\u001b[0m\u001b[1;33m\u001b[0m\u001b[1;33m\u001b[0m\u001b[0m\n",
      "\u001b[1;31mTimeoutException\u001b[0m: Message: \nStacktrace:\n\tGetHandleVerifier [0x00007FF62340AD32+56930]\n\t(No symbol) [0x00007FF62337F632]\n\t(No symbol) [0x00007FF6232342E5]\n\t(No symbol) [0x00007FF6232798ED]\n\t(No symbol) [0x00007FF623279A2C]\n\t(No symbol) [0x00007FF6232BA967]\n\t(No symbol) [0x00007FF62329BCDF]\n\t(No symbol) [0x00007FF6232B81E2]\n\t(No symbol) [0x00007FF62329BA43]\n\t(No symbol) [0x00007FF62326D438]\n\t(No symbol) [0x00007FF62326E4D1]\n\tGetHandleVerifier [0x00007FF623786ABD+3709933]\n\tGetHandleVerifier [0x00007FF6237DFFFD+4075821]\n\tGetHandleVerifier [0x00007FF6237D818F+4043455]\n\tGetHandleVerifier [0x00007FF6234A9766+706710]\n\t(No symbol) [0x00007FF62338B90F]\n\t(No symbol) [0x00007FF623386AF4]\n\t(No symbol) [0x00007FF623386C4C]\n\t(No symbol) [0x00007FF623376904]\n\tBaseThreadInitThunk [0x00007FF8EFB0257D+29]\n\tRtlUserThreadStart [0x00007FF8F17EAA58+40]\n"
     ]
    }
   ],
   "source": [
    "for uni_code in df_universities.index: #list(uni_codes):#\n",
    "    create_df_quota(driver, df_quota,uni_code)    "
   ]
  },
  {
   "cell_type": "code",
   "execution_count": null,
   "id": "6fe4f84e-0c26-4ea8-bb83-c833e374adad",
   "metadata": {
    "tags": []
   },
   "outputs": [],
   "source": [
    "df_quota.info()"
   ]
  },
  {
   "cell_type": "code",
   "execution_count": null,
   "id": "fb613d69-2cd0-4758-a228-b96a2591112c",
   "metadata": {
    "tags": []
   },
   "outputs": [],
   "source": [
    "df_quota.to_csv(\"df_quota.csv\")"
   ]
  },
  {
   "cell_type": "code",
   "execution_count": 22,
   "id": "4229f5d4-a0b5-492e-82c9-d6d92cf8eddf",
   "metadata": {
    "tags": []
   },
   "outputs": [],
   "source": [
    "service = Service(\"chromedriver.exe\")\n",
    "driver= webdriver.Chrome(service=service)"
   ]
  },
  {
   "cell_type": "code",
   "execution_count": null,
   "id": "2505eb13-de47-4028-9563-8d7f89f71ea4",
   "metadata": {},
   "outputs": [],
   "source": []
  }
 ],
 "metadata": {
  "kernelspec": {
   "display_name": "Python 3 (ipykernel)",
   "language": "python",
   "name": "python3"
  },
  "language_info": {
   "codemirror_mode": {
    "name": "ipython",
    "version": 3
   },
   "file_extension": ".py",
   "mimetype": "text/x-python",
   "name": "python",
   "nbconvert_exporter": "python",
   "pygments_lexer": "ipython3",
   "version": "3.9.7"
  }
 },
 "nbformat": 4,
 "nbformat_minor": 5
}
