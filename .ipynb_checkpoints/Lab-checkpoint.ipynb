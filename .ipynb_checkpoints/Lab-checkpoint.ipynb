{
 "cells": [
  {
   "cell_type": "markdown",
   "id": "3dc6560a-6e03-4aca-bd6d-d065fad233af",
   "metadata": {},
   "source": [
    "## Örnek 1"
   ]
  },
  {
   "cell_type": "code",
   "execution_count": null,
   "id": "b1b62523-bb92-48de-a16d-95ed20a57ccf",
   "metadata": {},
   "outputs": [],
   "source": [
    "## Örnek 2\n",
    "class Calisan:\n",
    "    def __init__(self,ad,soyad):\n",
    "        self.ad=ad\n",
    "        self.soyad=soyad"
   ]
  },
  {
   "cell_type": "code",
   "execution_count": null,
   "id": "ca09a1d2-9928-44d5-a79a-ad3dbd92589d",
   "metadata": {},
   "outputs": [],
   "source": [
    "class SabitMaasliCalisan(Calisan):\n",
    "    def __init__(self,ad,soyad,maas):\n",
    "        super().__init__(ad,soyad)\n",
    "        self.maas = maas\n",
    "    def maas_hesapla(self):\n",
    "        return self.maas"
   ]
  },
  {
   "cell_type": "code",
   "execution_count": null,
   "id": "64f625f7-69bd-4f6e-a9db-b3c7bfb161ec",
   "metadata": {},
   "outputs": [],
   "source": [
    "\n",
    "class YariZamanliCalisan(Calisan):\n",
    "    def __init__(self,ad,soyad,calisma_saati,saat_kazanci):\n",
    "        super().__init__(ad,soyad)\n",
    "        self.calisma_saati = calisma_saati\n",
    "        self.saat_kazanci = saat_kazanci\n",
    "    def maas_hesapla(self):\n",
    "        return self.calisma_saati*self.saat_kazanci"
   ]
  },
  {
   "cell_type": "code",
   "execution_count": 76,
   "id": "86fa78d9-5c27-4a34-8987-edab4e033b92",
   "metadata": {
    "tags": []
   },
   "outputs": [
    {
     "name": "stdout",
     "output_type": "stream",
     "text": [
      "Maaş:40000\n"
     ]
    }
   ],
   "source": [
    "sabit_maasli_calisan = SabitMaasliCalisan(\"Ahmet\",\"Yılmaz\",40000)\n",
    "maas =sabit_maasli_calisan.maas_hesapla() \n",
    "print(\"Maaş:\"+str( maas ) )"
   ]
  },
  {
   "cell_type": "code",
   "execution_count": 79,
   "id": "3a1068ce-4c68-4cd0-8ef9-e094f671d122",
   "metadata": {
    "tags": []
   },
   "outputs": [
    {
     "name": "stdout",
     "output_type": "stream",
     "text": [
      "Maaş:6000\n"
     ]
    }
   ],
   "source": [
    "yari_zamanli_calisan = YariZamanliCalisan(\"Ahmet\",\"Yılmaz\",20,300)\n",
    "maas =yari_zamanli_calisan.maas_hesapla() \n",
    "print(\"Maaş:\"+str( maas ) )"
   ]
  },
  {
   "cell_type": "markdown",
   "id": "44a2f647-14d0-4211-af9f-eb269f4b580a",
   "metadata": {},
   "source": [
    "## Örnek 2"
   ]
  },
  {
   "cell_type": "code",
   "execution_count": 43,
   "id": "1fce4e6d-b64f-4cb1-b3d3-01ba64dea049",
   "metadata": {
    "tags": []
   },
   "outputs": [],
   "source": [
    "class Tasit:\n",
    "    def __init__(self,marka,renk,yil):\n",
    "        self.marka = marka\n",
    "        self.renk = renk\n",
    "        self.yil = yil\n",
    "    def __str__(self):\n",
    "        return \"Marka:\"+self.marka+\",Renk:\"+self.renk+\",Yıl:\"+str(self.yil)"
   ]
  },
  {
   "cell_type": "code",
   "execution_count": 46,
   "id": "6af58503-5e07-473b-bb2f-607fd9a3d6bc",
   "metadata": {
    "tags": []
   },
   "outputs": [],
   "source": [
    "class Araba(Tasit):\n",
    "    def __init__(self,marka,renk,yil,kapi_sayisi):\n",
    "        super().__init__(marka,renk,yil)\n",
    "        self.kapi_sayisi = kapi_sayisi\n",
    "    def __str__(self):\n",
    "          return super().__str__()+\",Kapıs sayısı:\"+str(self.kapi_sayisi)"
   ]
  },
  {
   "cell_type": "code",
   "execution_count": 47,
   "id": "48916a80-a828-4f05-abb8-7177d9909a29",
   "metadata": {
    "tags": []
   },
   "outputs": [
    {
     "name": "stdout",
     "output_type": "stream",
     "text": [
      "Marka:BMW,Renk:Siyah,Yıl:2000,Kapıs sayısı:4\n"
     ]
    }
   ],
   "source": [
    "araba= Araba(\"BMW\",\"Siyah\",2000,4)\n",
    "print(araba)"
   ]
  },
  {
   "cell_type": "code",
   "execution_count": 53,
   "id": "8190c331-79aa-417f-95d0-a5e938122f7a",
   "metadata": {
    "tags": []
   },
   "outputs": [],
   "source": [
    "class ElektrikliAraba(Araba):\n",
    "    def __init__(self,marka,renk,yil,kapi_sayisi,pil_tipi):\n",
    "        super().__init__(marka,renk,yil,kapi_sayisi)\n",
    "        self.pil_tipi = pil_tipi\n",
    "    def __str__(self):\n",
    "        return super().__str__()+\",Pil tipi:\"+self.pil_tipi\n",
    "    def sarj_et(self):\n",
    "        print(\"Elektrikli araba şarj edildi.\")"
   ]
  },
  {
   "cell_type": "code",
   "execution_count": 55,
   "id": "6a22791d-5d2a-4a31-818d-84ba66d35dad",
   "metadata": {
    "tags": []
   },
   "outputs": [
    {
     "name": "stdout",
     "output_type": "stream",
     "text": [
      "Marka:Tesla,Renk:Beyaz,Yıl:2024,Kapıs sayısı:2,Pil tipi:Lityum iyon\n"
     ]
    }
   ],
   "source": [
    "elektrikli_araba = ElektrikliAraba(\"Tesla\",\"Beyaz\",2024,2,\"Lityum iyon\")\n",
    "print(elektrikli_araba)"
   ]
  },
  {
   "cell_type": "code",
   "execution_count": 64,
   "id": "381ea0bd-5ae5-4ae9-a5ab-2694d185e3d0",
   "metadata": {
    "tags": []
   },
   "outputs": [],
   "source": [
    "class FosilYakitliAraba(Araba):\n",
    "    def __init__(self,marka,renk,yil,kapi_sayisi,yakit_tipi):\n",
    "        super().__init__(marka,renk,yil,kapi_sayisi)\n",
    "        self.yakit_tipi = yakit_tipi\n",
    "    def __str__(self):\n",
    "        return super().__str__()+\",Yakıt tipi:\"+self.yakit_tipi\n",
    "    def yakit_doldur(self):\n",
    "        print(\"Depo dolduruldu.\")"
   ]
  },
  {
   "cell_type": "code",
   "execution_count": 65,
   "id": "5eb123f6-9f91-4eb5-815d-26049c0fc388",
   "metadata": {
    "tags": []
   },
   "outputs": [
    {
     "name": "stdout",
     "output_type": "stream",
     "text": [
      "Marka:Audi,Renk:Kırmızı,Yıl:2020,Kapıs sayısı:4,Yakıt tipi:Benzin\n"
     ]
    }
   ],
   "source": [
    "fosil_yakitli_araba = FosilYakitliAraba(\"Audi\",\"Kırmızı\",2020,4,\"Benzin\")\n",
    "print(fosil_yakitli_araba)"
   ]
  },
  {
   "cell_type": "code",
   "execution_count": 67,
   "id": "4c207ab8-21f4-478c-bbbe-efed144ae32a",
   "metadata": {
    "tags": []
   },
   "outputs": [
    {
     "name": "stdout",
     "output_type": "stream",
     "text": [
      "Elektrikli araba şarj edildi.\n"
     ]
    }
   ],
   "source": [
    "elektrikli_araba.sarj_et()\n"
   ]
  },
  {
   "cell_type": "code",
   "execution_count": 68,
   "id": "35ca37df-4a8a-42cd-8b19-81ffc7c3b336",
   "metadata": {
    "tags": []
   },
   "outputs": [
    {
     "name": "stdout",
     "output_type": "stream",
     "text": [
      "Depo dolduruldu.\n"
     ]
    }
   ],
   "source": [
    "fosil_yakitli_araba.yakit_doldur()"
   ]
  },
  {
   "cell_type": "code",
   "execution_count": 69,
   "id": "5cbada1a-34fc-484c-96be-640fa180aeb0",
   "metadata": {
    "tags": []
   },
   "outputs": [],
   "source": []
  },
  {
   "cell_type": "code",
   "execution_count": 72,
   "id": "e055e09c-6e4c-4fe6-90d4-606751f4194a",
   "metadata": {
    "tags": []
   },
   "outputs": [],
   "source": []
  },
  {
   "cell_type": "code",
   "execution_count": 73,
   "id": "7183af4c-cdf5-4e91-a64d-9453c164350f",
   "metadata": {
    "tags": []
   },
   "outputs": [],
   "source": []
  },
  {
   "cell_type": "code",
   "execution_count": null,
   "id": "9f46bc85-faf2-4c5a-a547-ec931c0ebe19",
   "metadata": {},
   "outputs": [],
   "source": []
  }
 ],
 "metadata": {
  "kernelspec": {
   "display_name": "Python 3 (ipykernel)",
   "language": "python",
   "name": "python3"
  },
  "language_info": {
   "codemirror_mode": {
    "name": "ipython",
    "version": 3
   },
   "file_extension": ".py",
   "mimetype": "text/x-python",
   "name": "python",
   "nbconvert_exporter": "python",
   "pygments_lexer": "ipython3",
   "version": "3.9.7"
  }
 },
 "nbformat": 4,
 "nbformat_minor": 5
}
