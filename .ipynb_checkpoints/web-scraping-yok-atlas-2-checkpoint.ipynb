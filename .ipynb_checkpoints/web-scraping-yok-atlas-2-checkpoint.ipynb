{
 "cells": [
  {
   "cell_type": "code",
   "execution_count": 2,
   "id": "e65428a0-2f03-4887-b4f1-9fd524b0b995",
   "metadata": {
    "tags": []
   },
   "outputs": [],
   "source": [
    "from selenium import webdriver\n",
    "from selenium.webdriver.chrome.service import Service\n",
    "from selenium.webdriver.common.by import By\n",
    "from selenium.webdriver.support.ui import WebDriverWait\n",
    "from selenium.webdriver.support import expected_conditions as EC\n",
    "import pandas as pd\n",
    "import time\n",
    "import numpy as np\n",
    "from tqdm import tqdm\n",
    "import locale\n",
    "service = Service(\"chromedriver.exe\")\n",
    "driver= webdriver.Chrome(service=service)\n",
    "driver.maximize_window()\n",
    "base_url = \"https://yokatlas.yok.gov.tr/lisans-univ.php?u=\""
   ]
  },
  {
   "cell_type": "markdown",
   "id": "f43588d1-03ef-4198-909c-de80d4946af8",
   "metadata": {},
   "source": [
    " In the previous notebook we have prepared a template df including university type,city,name and code.<br>\n",
    "Firstly, we read this df which is ready to extend and sort index. In reading process we use columns as index."
   ]
  },
  {
   "cell_type": "code",
   "execution_count": 4,
   "id": "1aecf422-4fa6-42aa-86f5-d232bcc7e63d",
   "metadata": {
    "tags": []
   },
   "outputs": [
    {
     "data": {
      "text/html": [
       "<div>\n",
       "<style scoped>\n",
       "    .dataframe tbody tr th:only-of-type {\n",
       "        vertical-align: middle;\n",
       "    }\n",
       "\n",
       "    .dataframe tbody tr th {\n",
       "        vertical-align: top;\n",
       "    }\n",
       "\n",
       "    .dataframe thead th {\n",
       "        text-align: right;\n",
       "    }\n",
       "</style>\n",
       "<table border=\"1\" class=\"dataframe\">\n",
       "  <thead>\n",
       "    <tr style=\"text-align: right;\">\n",
       "      <th></th>\n",
       "      <th></th>\n",
       "      <th></th>\n",
       "      <th></th>\n",
       "    </tr>\n",
       "    <tr>\n",
       "      <th>uni_type</th>\n",
       "      <th>city</th>\n",
       "      <th>uni_name</th>\n",
       "      <th>uni_code</th>\n",
       "    </tr>\n",
       "  </thead>\n",
       "  <tbody>\n",
       "    <tr>\n",
       "      <th rowspan=\"10\" valign=\"top\">Devlet</th>\n",
       "      <th rowspan=\"3\" valign=\"top\">Adana</th>\n",
       "      <th>ADANA ALPARSLAN TÜRKEŞ BİLİM VE TEKNOLOJİ ÜNİVERSİTESİ</th>\n",
       "      <th>1104</th>\n",
       "    </tr>\n",
       "    <tr>\n",
       "      <th>ÇUKUROVA ÜNİVERSİTESİ</th>\n",
       "      <th>1029</th>\n",
       "    </tr>\n",
       "    <tr>\n",
       "      <th>SAĞLIK BİLİMLERİ ÜNİVERSİTESİ</th>\n",
       "      <th>1110</th>\n",
       "    </tr>\n",
       "    <tr>\n",
       "      <th>Adıyaman</th>\n",
       "      <th>ADIYAMAN ÜNİVERSİTESİ</th>\n",
       "      <th>1002</th>\n",
       "    </tr>\n",
       "    <tr>\n",
       "      <th rowspan=\"2\" valign=\"top\">Afyonkarahisar</th>\n",
       "      <th>AFYON KOCATEPE ÜNİVERSİTESİ</th>\n",
       "      <th>1004</th>\n",
       "    </tr>\n",
       "    <tr>\n",
       "      <th>AFYONKARAHİSAR SAĞLIK BİLİMLERİ ÜNİVERSİTESİ</th>\n",
       "      <th>1126</th>\n",
       "    </tr>\n",
       "    <tr>\n",
       "      <th>Ağrı</th>\n",
       "      <th>AĞRI İBRAHİM ÇEÇEN ÜNİVERSİTESİ</th>\n",
       "      <th>1005</th>\n",
       "    </tr>\n",
       "    <tr>\n",
       "      <th>Aksaray</th>\n",
       "      <th>AKSARAY ÜNİVERSİTESİ</th>\n",
       "      <th>1008</th>\n",
       "    </tr>\n",
       "    <tr>\n",
       "      <th>Amasya</th>\n",
       "      <th>AMASYA ÜNİVERSİTESİ</th>\n",
       "      <th>1009</th>\n",
       "    </tr>\n",
       "    <tr>\n",
       "      <th>Ankara</th>\n",
       "      <th>ANKARA HACI BAYRAM VELİ ÜNİVERSİTESİ</th>\n",
       "      <th>1117</th>\n",
       "    </tr>\n",
       "  </tbody>\n",
       "</table>\n",
       "</div>"
      ],
      "text/plain": [
       "Empty DataFrame\n",
       "Columns: []\n",
       "Index: [(Devlet, Adana, ADANA ALPARSLAN TÜRKEŞ BİLİM VE TEKNOLOJİ ÜNİVERSİTESİ, 1104), (Devlet, Adana, ÇUKUROVA ÜNİVERSİTESİ, 1029), (Devlet, Adana, SAĞLIK BİLİMLERİ ÜNİVERSİTESİ, 1110), (Devlet, Adıyaman, ADIYAMAN ÜNİVERSİTESİ, 1002), (Devlet, Afyonkarahisar, AFYON KOCATEPE ÜNİVERSİTESİ, 1004), (Devlet, Afyonkarahisar, AFYONKARAHİSAR SAĞLIK BİLİMLERİ ÜNİVERSİTESİ, 1126), (Devlet, Ağrı, AĞRI İBRAHİM ÇEÇEN ÜNİVERSİTESİ, 1005), (Devlet, Aksaray, AKSARAY ÜNİVERSİTESİ, 1008), (Devlet, Amasya, AMASYA ÜNİVERSİTESİ, 1009), (Devlet, Ankara, ANKARA HACI BAYRAM VELİ ÜNİVERSİTESİ, 1117)]"
      ]
     },
     "execution_count": 4,
     "metadata": {},
     "output_type": "execute_result"
    }
   ],
   "source": [
    "locale.setlocale(locale.LC_ALL, 'tr_TR.utf8')\n",
    "df = pd.read_csv(\"df_template.csv\",index_col=[0,1,2,3])\n",
    "df = df.sort_index(level=[0,1,2],key=lambda x: pd.Index([locale.strxfrm(e) for e in x] ))\n",
    "df.head(10)"
   ]
  },
  {
   "cell_type": "markdown",
   "id": "ca799719-a5fa-4761-b033-fed9062328ae",
   "metadata": {},
   "source": [
    "In this notebook we are going to:\n",
    "* extend df to include departments and their features.\n",
    "* fill the df with feature values."
   ]
  },
  {
   "cell_type": "markdown",
   "id": "c2fc6e9c-9374-4814-9a44-e939798d0a40",
   "metadata": {},
   "source": [
    "## 1- Add department names"
   ]
  },
  {
   "cell_type": "markdown",
   "id": "45b0543c-3679-4782-a359-c1f22bd689f3",
   "metadata": {},
   "source": [
    "### 1.2 Add department names"
   ]
  },
  {
   "cell_type": "code",
   "execution_count": 6,
   "id": "b4a74703-0099-48e3-9b68-09c30d9d4766",
   "metadata": {
    "tags": []
   },
   "outputs": [],
   "source": [
    "def get_department_names(driver,base_url, city,uni_code):\n",
    "    department_names = set()   \n",
    "    driver.get(base_url + str(uni_code) )  \n",
    "    driver.implicitly_wait(2)\n",
    "    anchor_departments =  driver.find_elements(by=By.XPATH, value=\"//a[@data-parent='#']\")\n",
    "    for anchor_department  in anchor_departments:\n",
    "        department_name = anchor_department.find_element(by=By.XPATH, value=\"div\").get_attribute(\"innerText\")\n",
    "        place_name = anchor_department.find_element(by=By.XPATH, value=\"small\").get_attribute(\"innerText\")        \n",
    "        # Exclude abroad programs \n",
    "        excluded_strings = [\"KKTC\", \"UOLP\"]\n",
    "        if all(exclude_str not in department_name for exclude_str in excluded_strings)  and \"KKTC\" not in place_name:\n",
    "            if uni_code==1110: # We deal with Sağlık Bilimleri Üniversitesi seperately\n",
    "                if (city==\"Ankara\" and \"Ankara\" not in department_name) or (city!=\"Ankara\" and \"Ankara\" in department_name) or\\\n",
    "                    (city in [\"Adana\",\"Erzurum\",\"Bursa\",\"Trabzon\",\"İzmir\",\"Kayseri\"] and city not in place_name):\n",
    "                    department_name = None\n",
    "                if department_name!=None and \"(\" in department_name:\n",
    "                        department_name = department_name[:department_name.index(\"(\")].strip()    \n",
    "            \n",
    "            if department_name!=None: \n",
    "                department_names.add(department_name) \n",
    "               \n",
    "    return department_names    "
   ]
  },
  {
   "cell_type": "code",
   "execution_count": 7,
   "id": "c2ccc049-5294-48f8-b986-d9f687da8b0b",
   "metadata": {
    "tags": []
   },
   "outputs": [
    {
     "name": "stderr",
     "output_type": "stream",
     "text": [
      "100%|██████████| 207/207 [04:35<00:00,  1.33s/it]\n"
     ]
    },
    {
     "data": {
      "text/html": [
       "<div>\n",
       "<style scoped>\n",
       "    .dataframe tbody tr th:only-of-type {\n",
       "        vertical-align: middle;\n",
       "    }\n",
       "\n",
       "    .dataframe tbody tr th {\n",
       "        vertical-align: top;\n",
       "    }\n",
       "\n",
       "    .dataframe thead th {\n",
       "        text-align: right;\n",
       "    }\n",
       "</style>\n",
       "<table border=\"1\" class=\"dataframe\">\n",
       "  <thead>\n",
       "    <tr style=\"text-align: right;\">\n",
       "      <th></th>\n",
       "      <th></th>\n",
       "      <th></th>\n",
       "      <th></th>\n",
       "      <th></th>\n",
       "    </tr>\n",
       "    <tr>\n",
       "      <th>uni_type</th>\n",
       "      <th>city</th>\n",
       "      <th>uni_name</th>\n",
       "      <th>uni_code</th>\n",
       "      <th>department</th>\n",
       "    </tr>\n",
       "  </thead>\n",
       "  <tbody>\n",
       "    <tr>\n",
       "      <th rowspan=\"5\" valign=\"top\">Devlet</th>\n",
       "      <th rowspan=\"5\" valign=\"top\">Adana</th>\n",
       "      <th rowspan=\"5\" valign=\"top\">ADANA ALPARSLAN TÜRKEŞ BİLİM VE TEKNOLOJİ ÜNİVERSİTESİ</th>\n",
       "      <th rowspan=\"5\" valign=\"top\">1104</th>\n",
       "      <th>İngilizce Mütercim ve Tercümanlık</th>\n",
       "    </tr>\n",
       "    <tr>\n",
       "      <th>Psikoloji (İngilizce)</th>\n",
       "    </tr>\n",
       "    <tr>\n",
       "      <th>Bilgisayar Mühendisliği (İngilizce)</th>\n",
       "    </tr>\n",
       "    <tr>\n",
       "      <th>Endüstri Mühendisliği (İngilizce)</th>\n",
       "    </tr>\n",
       "    <tr>\n",
       "      <th>Enerji Sistemleri Mühendisliği (İngilizce)</th>\n",
       "    </tr>\n",
       "  </tbody>\n",
       "</table>\n",
       "</div>"
      ],
      "text/plain": [
       "Empty DataFrame\n",
       "Columns: []\n",
       "Index: [(Devlet, Adana, ADANA ALPARSLAN TÜRKEŞ BİLİM VE TEKNOLOJİ ÜNİVERSİTESİ, 1104, İngilizce Mütercim ve Tercümanlık), (Devlet, Adana, ADANA ALPARSLAN TÜRKEŞ BİLİM VE TEKNOLOJİ ÜNİVERSİTESİ, 1104, Psikoloji (İngilizce)), (Devlet, Adana, ADANA ALPARSLAN TÜRKEŞ BİLİM VE TEKNOLOJİ ÜNİVERSİTESİ, 1104, Bilgisayar Mühendisliği (İngilizce)), (Devlet, Adana, ADANA ALPARSLAN TÜRKEŞ BİLİM VE TEKNOLOJİ ÜNİVERSİTESİ, 1104, Endüstri Mühendisliği (İngilizce)), (Devlet, Adana, ADANA ALPARSLAN TÜRKEŞ BİLİM VE TEKNOLOJİ ÜNİVERSİTESİ, 1104, Enerji Sistemleri Mühendisliği (İngilizce))]"
      ]
     },
     "execution_count": 7,
     "metadata": {},
     "output_type": "execute_result"
    }
   ],
   "source": [
    "df_new = pd.DataFrame() \n",
    "for _,city,_,uni_code in tqdm(df.index):\n",
    "    department_names = get_department_names(driver,base_url,city, uni_code) \n",
    "    midx = pd.MultiIndex.from_product([[uni_code],department_names] ,names=[\"uni_code\",\"department\"]) \n",
    "    df_temp = pd.DataFrame(index = midx)\n",
    "    df_new = pd.concat( (df_new,df.loc[pd.IndexSlice[:,city,:,uni_code],:].join(df_temp)) ) #.loc[pd.IndexSlice[:, :,uni_code,:],:]#data.loc[:, pd.IndexSlice[:, [\"a\", \"b\"]]]\n",
    "\n",
    "# rename df_new as df again and shift type to first index\n",
    "df = df_new.reorder_levels([1,2,3,0,4]) \n",
    "df.head()"
   ]
  },
  {
   "cell_type": "markdown",
   "id": "bd2b602f-54cb-4dc0-bb2c-3f555f447010",
   "metadata": {},
   "source": [
    "Sort the new department-index."
   ]
  },
  {
   "cell_type": "code",
   "execution_count": null,
   "id": "238ff060-9acb-47a4-b0e0-3a9c5ad36404",
   "metadata": {},
   "outputs": [],
   "source": [
    "df = df.sort_index(level=[0,1,2,4],key=lambda x: pd.Index([locale.strxfrm(e) for e in x] ))\n",
    "df.head()"
   ]
  },
  {
   "cell_type": "markdown",
   "id": "5b78919c-2957-4912-935e-f7d88358cda1",
   "metadata": {},
   "source": [
    "## 2- Add other features of departments"
   ]
  },
  {
   "cell_type": "code",
   "execution_count": null,
   "id": "c527fe4c-8dda-4dc7-9192-441f7afbe159",
   "metadata": {},
   "outputs": [],
   "source": [
    "cities = sorted( df.index.get_level_values(1).unique().tolist() )\n",
    "len(cities)"
   ]
  },
  {
   "cell_type": "code",
   "execution_count": null,
   "id": "52fe6137-3cc4-44e1-9dd4-839e7449534b",
   "metadata": {},
   "outputs": [],
   "source": [
    "department_features = [\"quota\",\"placements\",\"not_registered\",\"enrollments\",\"faculty\",\"department_type\",\"scholarship\",\"num_female\",\"num_male\",\"num_city_same\",\"num_city_different\",\"region\",\"language\"]\n",
    "df[department_features[:4]] = 0         # the first four columns are numeric(integers)\n",
    "df[department_features[2:-1]] = np.nan  # other columns are categorical\n",
    "df[department_features[-1]] = \"Turkish\" # default education language is Turkish\n",
    "df[cities]= 0                           # add number of students coming from cities"
   ]
  },
  {
   "cell_type": "markdown",
   "id": "d7acbebc-0385-44de-b9d1-339fa9bd85e3",
   "metadata": {},
   "source": [
    "### Extract the language if  exists in department name\n",
    "In this step we :\n",
    "* remove some expressions like 'Açıköğretim' (open education) ,  'Uzaktan Öğretim' (distant education), 'İÖ' (evening education)\n",
    "      which will be extracted seperately and saved as features.\n",
    "* extract language feature if it exists inside parentheses and save it in the corresponding language column.\n",
    "\n",
    "As a result a department name  such as Psikoloji (İngilizce)  will be Psikoloji while language column will be \"İngilizce\"."
   ]
  },
  {
   "cell_type": "code",
   "execution_count": null,
   "id": "ea76d7e7-eff5-402e-bff6-6b1976fdf710",
   "metadata": {},
   "outputs": [],
   "source": [
    "print(\"Number of deparment names before extracting language and removing expressions in parantheses\",len(df.index.get_level_values(4).unique()))"
   ]
  },
  {
   "cell_type": "code",
   "execution_count": null,
   "id": "cb16fa61-503e-4db5-ac80-0eb0f6b94309",
   "metadata": {},
   "outputs": [],
   "source": [
    "import re\n",
    "pd.set_option('display.max_rows',None)\n",
    "pd.set_option('display.max_columns',None)\n",
    "#languages_dict = {'Almanca':\"German\", 'Arapça':\"Arabic\", 'Bulgarca':\"Bulgarian\", 'Ermenice':\"Armenian\", 'Fransızca':\"French\", 'Korece':\"Korean\",\n",
    " #                 'Lehçe':\"Polish\", 'Rusça':\"Russian\",  'Çince':\"Chinese\", 'İngilizce':\"English\", 'İspanyolca':\"Spanish\", 'İtalyanca':\"Italian\"}\n",
    "languages_set= {'Almanca', 'Arapça', 'Bulgarca', 'Ermenice', 'Fransızca', 'Korece', 'Lehçe', 'Rusça',  'Çince', 'İngilizce','İspanyolca', 'İtalyanca'}\n",
    "#res=pd.DataFrame(df.loc[pd.IndexSlice[\"Devlet\",:,:,:]].index.get_level_values(3).unique())[\"department\"]\n",
    "#res\n",
    "pattern = r'\\((.*?)\\)'  # Matches text inside parentheses\n",
    "new_department_index = {}\n",
    "for uni_type, city, uni_name, uni_code,department in df.index:\n",
    "    parentheses_content = set(re.findall(pattern, department))\n",
    "    if parentheses_content:\n",
    "        if parentheses_content & languages_set:    \n",
    "            language, =parentheses_content & languages_set\n",
    "            df.loc[(uni_type, city, uni_name, uni_code,department),\"language\"] = language # set the language value \n",
    "        new_department = department[:department.index(\"(\")].strip() # remove all parentheses\n",
    "        new_department_index[department] = new_department"
   ]
  },
  {
   "cell_type": "code",
   "execution_count": null,
   "id": "9016acc7-b82a-40ad-8c45-7ea8f7c7d95f",
   "metadata": {},
   "outputs": [],
   "source": [
    "df = df.rename(index=new_department_index, level=4)\n",
    "print(\"Number of deparment names before extracting language\",len(df.index.get_level_values(4).unique()))"
   ]
  },
  {
   "cell_type": "markdown",
   "id": "9770db6a-6413-4790-81f3-7877eb64b45e",
   "metadata": {},
   "source": [
    "# 3- Fill features "
   ]
  },
  {
   "cell_type": "code",
   "execution_count": null,
   "id": "50368093-ca96-43c3-b58a-1da3d3d60686",
   "metadata": {},
   "outputs": [],
   "source": [
    "def get_department_anchors_divs(driver):\n",
    "  #  time.sleep(2)\n",
    "    driver.implicitly_wait(imp_wait_time)\n",
    "    anchors          =  driver.find_elements(by=By.XPATH, value=\"//a[@data-parent='#']\") #links to departments\n",
    "   # time.sleep(2)\n",
    "    driver.implicitly_wait(imp_wait_time)\n",
    "    divs_departments =  driver.find_elements(by=By.XPATH, value=\"//a[@data-parent='#']/div\")\n",
    "    return anchors, divs_departments"
   ]
  },
  {
   "cell_type": "code",
   "execution_count": null,
   "id": "23c28e36-0b91-4481-b9a9-8eb97bc4d623",
   "metadata": {},
   "outputs": [],
   "source": [
    "def get_row_content(driver,searched_text,add_strong=False):\n",
    "    # Find the td element within the row_element,# Selecting the last td element  \n",
    "    strong=\"\"\n",
    "    if add_strong:\n",
    "        strong =\"/strong\"\n",
    "    x_path = f\"//tr[td{strong}[contains(text(),'{searched_text}')]]/td[last()]\"\n",
    "    td = WebDriverWait(driver, 3).until( EC.presence_of_element_located((By.XPATH, x_path)) )  \n",
    "    return td.get_attribute(\"innerText\")"
   ]
  },
  {
   "cell_type": "code",
   "execution_count": null,
   "id": "32c072ee-a385-484e-8239-344d147bc06b",
   "metadata": {},
   "outputs": [],
   "source": [
    "wait_time = .2\n",
    "imp_wait_time= .2\n",
    "def get_cell_contents(driver,tab_name):\n",
    "    # close pop-ups\n",
    "    try:\n",
    "        pop_up_element_xpath = \"//span[@class='featherlight-close-icon featherlight-close']\"\n",
    "        WebDriverWait(driver,wait_time).until( EC.presence_of_element_located((By.XPATH,pop_up_element_xpath) )  )\n",
    "        #driver.implicitly_wait(5)\n",
    "        pop_ups = driver.find_elements(by=By.XPATH, value=pop_up_element_xpath)\n",
    "        for i in range(len(pop_ups)-1,-1,-1): \n",
    "            pop_ups[i].click() \n",
    "    except:\n",
    "        pass\n",
    "    \n",
    "    result=False\n",
    "    while not result:\n",
    "        try:\n",
    "            x_path_tab = \"//*[contains(text(),\"+tab_name +\")]\" # find the tab   \n",
    "            WebDriverWait(driver, wait_time).until( EC.presence_of_element_located((By.XPATH, x_path_tab) )  ).click() #click the tab\n",
    "            quota = int(get_row_content(driver,searched_text= \"Toplam Kontenjan\",add_strong = True) )       \n",
    "            placements = int( get_row_content(driver,searched_text= \"Toplam Yerleşen\",add_strong = True)   )\n",
    "            non_registered = int(get_row_content(driver,searched_text= \"Yerleşip Kayıt Yaptırmayan\")  )\n",
    "            uni_type = get_row_content(driver,searched_text= \"Burs Türü\") \n",
    "            faculty = get_row_content(driver,searched_text= \"Fakülte\")\n",
    "            department_type = get_row_content(driver,searched_text= \"Puan Türü\")\n",
    "            result=True\n",
    "        except:\n",
    "            pass        \n",
    "    \n",
    "    return quota, placements,non_registered,uni_type"
   ]
  },
  {
   "cell_type": "code",
   "execution_count": null,
   "id": "c1460532-0b1a-4a44-8128-c8d52bbcf056",
   "metadata": {},
   "outputs": [],
   "source": [
    "def fill_features(driver, df, uni_code,sleep_time=2):    \n",
    "    driver.implicitly_wait(imp_wait_time)\n",
    "    driver.get(base_url + str(uni_code) )\n",
    "    #  time.sleep(sleep_time)  \n",
    "    driver.implicitly_wait(imp_wait_time)\n",
    "    anchors, divs_departments = get_department_anchors_divs(driver)\n",
    "  #  time.sleep(sleep_time)  \n",
    "    print(len(divs_departments)) \n",
    "    for anchor,div_department in zip(anchors, divs_departments):      \n",
    "        result=False\n",
    "        while not result:\n",
    "          #  time.sleep(sleep_time)   \n",
    "            try:           \n",
    "                driver.implicitly_wait(imp_wait_time)\n",
    "                department_name = div_department.get_attribute(\"innerText\").strip()  \n",
    "                result=True\n",
    "                print(department_name)\n",
    "            except:\n",
    "                print(\"Failed to get department name. uni_code:\",uni_code)\n",
    "                exit_result = fill_features(driver, df,uni_code, 5) #recursive call to restart scraping the same page\n",
    "                if exit_result:\n",
    "                    return True\n",
    "                \n",
    "        if \"KKTC\" not in department_name:         \n",
    "            driver.get(anchor.get_attribute(\"href\"))\n",
    "            driver.implicitly_wait(imp_wait_time)  \n",
    "            quota, placements,non_registered, scholarship =  get_cell_contents(driver, tab_name = \"'Genel Bilgiler'\")             \n",
    "            df.loc[pd.IndexSlice[:,:,:,uni_code,department_name], [\"quota\",\"placements\",\"non_registered\",\"scholarship\"]] = /\n",
    "                                                                int(quota),int(placements),int(non_registered),scholarship\n",
    "            driver.implicitly_wait(imp_wait_time)\n",
    "            driver.back()    \n",
    "   # print(\"Completed \"+str(uni_code),end=\",\")\n",
    "    return True"
   ]
  }
 ],
 "metadata": {
  "kernelspec": {
   "display_name": "Python 3 (ipykernel)",
   "language": "python",
   "name": "python3"
  },
  "language_info": {
   "codemirror_mode": {
    "name": "ipython",
    "version": 3
   },
   "file_extension": ".py",
   "mimetype": "text/x-python",
   "name": "python",
   "nbconvert_exporter": "python",
   "pygments_lexer": "ipython3",
   "version": "3.9.7"
  }
 },
 "nbformat": 4,
 "nbformat_minor": 5
}
