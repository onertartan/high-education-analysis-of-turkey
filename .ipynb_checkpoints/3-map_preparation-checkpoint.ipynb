{
 "cells": [
  {
   "cell_type": "code",
   "execution_count": 1,
   "id": "68d8c0e8-4490-4a61-9786-9250e21daf2e",
   "metadata": {
    "tags": []
   },
   "outputs": [],
   "source": [
    "import geopandas as gpd"
   ]
  },
  {
   "cell_type": "code",
   "execution_count": 2,
   "id": "03995fbe-ea77-4665-b00e-a75b9ab8c0d1",
   "metadata": {
    "tags": []
   },
   "outputs": [
    {
     "data": {
      "text/html": [
       "<div>\n",
       "<style scoped>\n",
       "    .dataframe tbody tr th:only-of-type {\n",
       "        vertical-align: middle;\n",
       "    }\n",
       "\n",
       "    .dataframe tbody tr th {\n",
       "        vertical-align: top;\n",
       "    }\n",
       "\n",
       "    .dataframe thead th {\n",
       "        text-align: right;\n",
       "    }\n",
       "</style>\n",
       "<table border=\"1\" class=\"dataframe\">\n",
       "  <thead>\n",
       "    <tr style=\"text-align: right;\">\n",
       "      <th></th>\n",
       "      <th>ID_0</th>\n",
       "      <th>ISO</th>\n",
       "      <th>NAME_0</th>\n",
       "      <th>ID_1</th>\n",
       "      <th>NAME_1</th>\n",
       "      <th>TYPE_1</th>\n",
       "      <th>ENGTYPE_1</th>\n",
       "      <th>NL_NAME_1</th>\n",
       "      <th>VARNAME_1</th>\n",
       "      <th>geometry</th>\n",
       "    </tr>\n",
       "  </thead>\n",
       "  <tbody>\n",
       "    <tr>\n",
       "      <th>0</th>\n",
       "      <td>235</td>\n",
       "      <td>TUR</td>\n",
       "      <td>Turkey</td>\n",
       "      <td>1</td>\n",
       "      <td>Çanakkale</td>\n",
       "      <td>Il</td>\n",
       "      <td>Province</td>\n",
       "      <td>None</td>\n",
       "      <td>None</td>\n",
       "      <td>MULTIPOLYGON (((26.05347 39.84736, 26.05347 39...</td>\n",
       "    </tr>\n",
       "    <tr>\n",
       "      <th>1</th>\n",
       "      <td>235</td>\n",
       "      <td>TUR</td>\n",
       "      <td>Turkey</td>\n",
       "      <td>2</td>\n",
       "      <td>Çankiri</td>\n",
       "      <td>Il</td>\n",
       "      <td>Province</td>\n",
       "      <td>None</td>\n",
       "      <td>Çankırı|Changra</td>\n",
       "      <td>POLYGON ((33.78607 40.96249, 33.78677 40.95684...</td>\n",
       "    </tr>\n",
       "  </tbody>\n",
       "</table>\n",
       "</div>"
      ],
      "text/plain": [
       "   ID_0  ISO  NAME_0  ID_1     NAME_1 TYPE_1 ENGTYPE_1 NL_NAME_1  \\\n",
       "0   235  TUR  Turkey     1  Çanakkale     Il  Province      None   \n",
       "1   235  TUR  Turkey     2    Çankiri     Il  Province      None   \n",
       "\n",
       "         VARNAME_1                                           geometry  \n",
       "0             None  MULTIPOLYGON (((26.05347 39.84736, 26.05347 39...  \n",
       "1  Çankırı|Changra  POLYGON ((33.78607 40.96249, 33.78677 40.95684...  "
      ]
     },
     "execution_count": 2,
     "metadata": {},
     "output_type": "execute_result"
    }
   ],
   "source": [
    "df_city_locations = gpd.read_file(\"./data/shapefiles/turkeyborder/TUR_adm1.shp\")\n",
    "df_city_locations.head(2)"
   ]
  },
  {
   "cell_type": "markdown",
   "id": "186fafc3-53aa-4290-8d69-566cbb3d8b0a",
   "metadata": {},
   "source": [
    "### Pre-processing: Fixing names"
   ]
  },
  {
   "cell_type": "code",
   "execution_count": 3,
   "id": "ceeeaac3-63f8-435d-be74-b6e3c6bec5a4",
   "metadata": {
    "tags": []
   },
   "outputs": [
    {
     "name": "stdout",
     "output_type": "stream",
     "text": [
      "['Çanakkale', 'Çankırı', 'Çorum', 'Adana', 'Adıyaman', 'Afyonkarahisar', 'Ağrı', 'Aksaray', 'Amasya', 'Ankara', 'Antalya', 'Ardahan', 'Artvin', 'Aydın', 'Balıkesir', 'Bartın', 'Batman', 'Bayburt', 'Bilecik', 'Bingöl', 'Bitlis', 'Bolu', 'Burdur', 'Bursa', 'Düzce', 'Denizli', 'Diyarbakır', 'Edirne', 'Elazığ', 'Erzincan', 'Erzurum', 'Eskişehir', 'Gümüşhane', 'Gaziantep', 'Giresun', 'Hakkari', 'Hatay', 'Iğdır', 'Isparta', 'İstanbul', 'İzmir', 'Kahramanmaraş', 'Kütahya', 'Karabük', 'Karaman', 'Kars', 'Kastamonu', 'Kayseri', 'Kilis', 'Kırıkkale', 'Kırklareli', 'Kırşehir', 'Kocaeli', 'Konya', 'Malatya', 'Manisa', 'Mardin', 'Mersin', 'Muğla', 'Muş', 'Nevşehir', 'Niğde', 'Ordu', 'Osmaniye', 'Rize', 'Sakarya', 'Samsun', 'Şanlıurfa', 'Siirt', 'Sinop', 'Şırnak', 'Sivas', 'Tekirdağ', 'Tokat', 'Trabzon', 'Tunceli', 'Uşak', 'Van', 'Yalova', 'Yozgat', 'Zonguldak']\n"
     ]
    }
   ],
   "source": [
    "replace_map = {\"K. Maras\": \"Kahramanmaraş\", \"Kinkkale\": \"Kırıkkale\", \"Zinguldak\": \"Zonguldak\", \"Afyon\": \"Afyonkarahisar\",\"Çankiri\":\"Çankırı\",\n",
    "              \"Adiyaman\":\"Adıyaman\",\"Agri\":\"Ağrı\",\"Aydin\":\"Aydın\",\"Balikesir\":\"Balıkesir\",\"Diyarbakir\":\"Diyarbakır\",\"Eskisehir\":\"Eskişehir\",\"Gümüshane\":\"Gümüşhane\",\n",
    "              \"Istanbul\":\"İstanbul\",\"Izmir\":\"İzmir\",\"Kirklareli\":\"Kırklareli\",\"Kirsehir\":\"Kırşehir\",\"Mugla\":\"Muğla\",\"Mus\":\"Muş\",\"Nevsehir\":\"Nevşehir\",\"Nigde\":\"Niğde\",\n",
    "              \"Sanliurfa\":\"Şanlıurfa\",\"Sirnak\":\"Şırnak\",\"Tekirdag\":\"Tekirdağ\",\"Usak\":\"Uşak\"}\n",
    "df_city_locations['NAME_1'] = df_city_locations['NAME_1'].replace(replace_map)\n",
    "\n",
    "print(df_city_locations['NAME_1'].tolist() )"
   ]
  },
  {
   "cell_type": "code",
   "execution_count": 5,
   "id": "c002b5ab-8c33-4c56-8b67-89c0b3ea0ee9",
   "metadata": {
    "tags": []
   },
   "outputs": [
    {
     "data": {
      "text/html": [
       "<div>\n",
       "<style scoped>\n",
       "    .dataframe tbody tr th:only-of-type {\n",
       "        vertical-align: middle;\n",
       "    }\n",
       "\n",
       "    .dataframe tbody tr th {\n",
       "        vertical-align: top;\n",
       "    }\n",
       "\n",
       "    .dataframe thead th {\n",
       "        text-align: right;\n",
       "    }\n",
       "</style>\n",
       "<table border=\"1\" class=\"dataframe\">\n",
       "  <thead>\n",
       "    <tr style=\"text-align: right;\">\n",
       "      <th></th>\n",
       "      <th>city</th>\n",
       "      <th>city_location</th>\n",
       "    </tr>\n",
       "  </thead>\n",
       "  <tbody>\n",
       "    <tr>\n",
       "      <th>0</th>\n",
       "      <td>Çanakkale</td>\n",
       "      <td>MULTIPOLYGON (((26.05347 39.84736, 26.05347 39...</td>\n",
       "    </tr>\n",
       "    <tr>\n",
       "      <th>1</th>\n",
       "      <td>Çankırı</td>\n",
       "      <td>POLYGON ((33.78607 40.96249, 33.78677 40.95684...</td>\n",
       "    </tr>\n",
       "    <tr>\n",
       "      <th>2</th>\n",
       "      <td>Çorum</td>\n",
       "      <td>POLYGON ((34.81906 41.20172, 34.84486 41.19581...</td>\n",
       "    </tr>\n",
       "  </tbody>\n",
       "</table>\n",
       "</div>"
      ],
      "text/plain": [
       "        city                                      city_location\n",
       "0  Çanakkale  MULTIPOLYGON (((26.05347 39.84736, 26.05347 39...\n",
       "1    Çankırı  POLYGON ((33.78607 40.96249, 33.78677 40.95684...\n",
       "2      Çorum  POLYGON ((34.81906 41.20172, 34.84486 41.19581..."
      ]
     },
     "execution_count": 5,
     "metadata": {},
     "output_type": "execute_result"
    }
   ],
   "source": [
    "df_city_locations = df_city_locations[[\"NAME_1\",\"geometry\"]]\n",
    "df_city_locations.rename(columns={\"NAME_1\":\"city\",\"geometry\":\"city_location\"},inplace=True)\n",
    "df_city_locations.head(3)"
   ]
  },
  {
   "cell_type": "code",
   "execution_count": 6,
   "id": "365eba70-1a99-4e42-9540-c2c1d4f09338",
   "metadata": {
    "tags": []
   },
   "outputs": [],
   "source": [
    "df_city_locations.to_csv(\"df_city_locations.csv\")"
   ]
  }
 ],
 "metadata": {
  "kernelspec": {
   "display_name": "Python 3 (ipykernel)",
   "language": "python",
   "name": "python3"
  },
  "language_info": {
   "codemirror_mode": {
    "name": "ipython",
    "version": 3
   },
   "file_extension": ".py",
   "mimetype": "text/x-python",
   "name": "python",
   "nbconvert_exporter": "python",
   "pygments_lexer": "ipython3",
   "version": "3.9.7"
  }
 },
 "nbformat": 4,
 "nbformat_minor": 5
}
