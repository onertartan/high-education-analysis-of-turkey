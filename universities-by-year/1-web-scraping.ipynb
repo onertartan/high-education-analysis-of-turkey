{
 "cells": [
  {
   "cell_type": "code",
   "execution_count": 6,
   "id": "4a02e85d-aaa8-4edf-b596-6d08a8131d3a",
   "metadata": {
    "tags": []
   },
   "outputs": [],
   "source": [
    "# Import packages\n",
    "from selenium import webdriver\n",
    "from selenium.webdriver.chrome.service import Service\n",
    "from selenium.webdriver.common.by import By\n",
    "from selenium.webdriver.support.ui import WebDriverWait\n",
    "from selenium.webdriver.support import expected_conditions as EC\n",
    "from selenium.webdriver.common.action_chains import ActionChains\n",
    "from datetime import date \n",
    "import geopandas as gpd\n",
    "import pandas as pd\n",
    "import time\n",
    "import matplotlib.pyplot as plt\n",
    "import numpy as np"
   ]
  },
  {
   "cell_type": "code",
   "execution_count": null,
   "id": "09dfe2a5-bd77-4762-9715-ef578a17f38a",
   "metadata": {},
   "outputs": [],
   "source": [
    "# Open browser\n",
    "service = Service(\"chromedriver.exe\")\n",
    "driver= webdriver.Chrome(service=service)\n",
    "driver.maximize_window()"
   ]
  },
  {
   "cell_type": "markdown",
   "id": "b26f1bb6-dae4-4e40-b25b-94d91e3940db",
   "metadata": {},
   "source": [
    "## 1- Open the Universities page"
   ]
  },
  {
   "cell_type": "code",
   "execution_count": null,
   "id": "27ff6021-16c0-4161-9628-7d6a3ec177a8",
   "metadata": {
    "tags": []
   },
   "outputs": [],
   "source": [
    "imp_wait_time=10\n",
    "exp_wait_time=2\n",
    "base_url = \"https://istatistik.yok.gov.tr\"\n",
    "driver.get(base_url)\n",
    "WebDriverWait(driver, imp_wait_time).until(EC.element_to_be_clickable((By.XPATH, \"//span[text()='Birim İstatistikleri']\"))).click()\n",
    "WebDriverWait(driver, imp_wait_time).until(EC.element_to_be_clickable((By.XPATH, \"//span[text()='Genel Bilgiler']\"))).click()\n",
    "WebDriverWait(driver, imp_wait_time).until(EC.element_to_be_clickable((By.XPATH, \"//span[text()='Üniversiteler']\"))).click()"
   ]
  },
  {
   "cell_type": "markdown",
   "id": "040e5142-19d7-4921-bc0a-65083e52eb38",
   "metadata": {},
   "source": [
    "## 2-Fill the df"
   ]
  },
  {
   "cell_type": "code",
   "execution_count": 153,
   "id": "369fc995-c416-456d-8c2c-dfbfcbc9e50e",
   "metadata": {
    "tags": []
   },
   "outputs": [],
   "source": [
    "df=pd.DataFrame(columns=[\"uni_name\",\"foundation_year\",\"type\",\"city\",\"region\",\"year\"])"
   ]
  },
  {
   "cell_type": "markdown",
   "id": "84b6717e-b97a-4252-98ed-a928cb19e515",
   "metadata": {},
   "source": [
    "We define a function to parse data for each year."
   ]
  },
  {
   "cell_type": "code",
   "execution_count": 154,
   "id": "770ab17f-bd53-42a7-9eef-77f458b3d652",
   "metadata": {
    "tags": []
   },
   "outputs": [],
   "source": [
    "def add_year(df,year,driver):\n",
    "    WebDriverWait(driver, imp_wait_time).until(EC.element_to_be_clickable((By.XPATH, \"//button[text()='Raporu Getir']\"))).click()# Click bring report button\n",
    "    time.sleep(exp_wait_time)\n",
    "    has_next_page = True\n",
    "  \n",
    "    while has_next_page:   \n",
    "        time.sleep(exp_wait_time)\n",
    "        div = driver.find_elements(by=By.XPATH, value=\"//div[@class='z-center-body']//div[@class='z-listbox-body']\")[0]\n",
    "        tbody = div.find_elements(by=By.XPATH, value=\".//tbody\")[0]\n",
    "        driver.implicitly_wait(imp_wait_time)\n",
    "        rows = tbody.find_elements(by=By.XPATH, value=\".//tr\")\n",
    "\n",
    "        for row in rows:\n",
    "            driver.implicitly_wait(imp_wait_time)\n",
    "           \n",
    "            cells =  row.find_elements(by=By.XPATH, value=\"./td/div\")         \n",
    "            data = [cells[j].get_attribute(\"innerText\")  for j in range(len(df.columns)-1)] +[ int(year)   ]\n",
    "            df.loc[len(df)]=data\n",
    "   \n",
    "        next_page_link = WebDriverWait(driver, imp_wait_time).until(EC.presence_of_element_located((By.XPATH, \"//a[@class='z-paging-button z-paging-next']\")))\n",
    "        ActionChains(driver).move_to_element(next_page_link)   \n",
    "        has_next_page =  not (next_page_link.get_attribute(\"disabled\") == \"true\")\n",
    "        if  has_next_page:\n",
    "            next_page_link.click()  \n",
    "        \n",
    "       "
   ]
  },
  {
   "cell_type": "markdown",
   "id": "6c0f32df-53a7-484b-8505-6623770f3a42",
   "metadata": {},
   "source": [
    "Using the helper add_year function we fill the df."
   ]
  },
  {
   "cell_type": "code",
   "execution_count": 155,
   "id": "08d5684c-93a3-40e5-8bc0-596b41c2a127",
   "metadata": {
    "tags": []
   },
   "outputs": [],
   "source": [
    "WebDriverWait(driver, imp_wait_time).until(EC.presence_of_element_located((By.XPATH, \"//button[text()='Yıl Seçiniz']\"))).click()\n",
    "time.sleep(exp_wait_time)\n",
    "n_year = len(driver.find_elements(by=By.XPATH, value=\"//div[@class='z-listcell-content']\"))\n",
    "\n",
    "for n in range(1,n_year): \n",
    "    year_table = driver.find_elements(by=By.XPATH, value=\"//table\")[-1]\n",
    "    driver.implicitly_wait(imp_wait_time)\n",
    "    year_radio_button = year_table.find_elements(by=By.XPATH, value=\".//div[@class='z-listcell-content']\")[n]\n",
    "    driver.implicitly_wait(imp_wait_time)\n",
    "    year = year_radio_button.get_attribute(\"innerText\").strip()\n",
    "    year_radio_button.click()\n",
    "    driver.implicitly_wait(imp_wait_time)\n",
    "    WebDriverWait(driver, imp_wait_time).until(EC.presence_of_element_located((By.XPATH, \"//button[text()='Seç']\"))).click()\n",
    "    time.sleep(exp_wait_time)\n",
    "    if year!=\"GÜNCEL\":\n",
    "        add_year(df,year,driver)\n",
    " \n",
    "   # WebDriverWait(driver, imp_wait_time).until(EC.presence_of_element_located((By.XPATH, \"//button[text()='Sil']\"))).click()#Click \"clear year\" button\n",
    "    WebDriverWait(driver, imp_wait_time).until(EC.presence_of_element_located((By.XPATH, \"//button[text()='Yıl Seçiniz']\"))).click()\n",
    "    time.sleep(exp_wait_time)"
   ]
  },
  {
   "cell_type": "markdown",
   "id": "c3cf3a41-66fc-4d28-9539-d8b9a4a35620",
   "metadata": {},
   "source": [
    "Let's check the shape of df"
   ]
  },
  {
   "cell_type": "code",
   "execution_count": 156,
   "id": "bd4b2d50-9130-4f0f-8a58-731ebac90f67",
   "metadata": {
    "tags": []
   },
   "outputs": [
    {
     "data": {
      "text/plain": [
       "(4332, 6)"
      ]
     },
     "execution_count": 156,
     "metadata": {},
     "output_type": "execute_result"
    }
   ],
   "source": [
    "df.shape"
   ]
  },
  {
   "cell_type": "markdown",
   "id": "03d80580-209e-43d2-8dba-7f0d349b4bc0",
   "metadata": {},
   "source": [
    "Let's check content (setting index for easier visualization)"
   ]
  },
  {
   "cell_type": "code",
   "execution_count": 157,
   "id": "1eeebf59-c9fc-4b71-9ea2-e81efe9964b5",
   "metadata": {
    "tags": []
   },
   "outputs": [
    {
     "data": {
      "text/html": [
       "<div>\n",
       "<style scoped>\n",
       "    .dataframe tbody tr th:only-of-type {\n",
       "        vertical-align: middle;\n",
       "    }\n",
       "\n",
       "    .dataframe tbody tr th {\n",
       "        vertical-align: top;\n",
       "    }\n",
       "\n",
       "    .dataframe thead th {\n",
       "        text-align: right;\n",
       "    }\n",
       "</style>\n",
       "<table border=\"1\" class=\"dataframe\">\n",
       "  <thead>\n",
       "    <tr style=\"text-align: right;\">\n",
       "      <th></th>\n",
       "      <th></th>\n",
       "      <th>foundation_year</th>\n",
       "      <th>type</th>\n",
       "      <th>city</th>\n",
       "      <th>region</th>\n",
       "    </tr>\n",
       "    <tr>\n",
       "      <th>year</th>\n",
       "      <th>uni_name</th>\n",
       "      <th></th>\n",
       "      <th></th>\n",
       "      <th></th>\n",
       "      <th></th>\n",
       "    </tr>\n",
       "  </thead>\n",
       "  <tbody>\n",
       "    <tr>\n",
       "      <th rowspan=\"5\" valign=\"top\">2023</th>\n",
       "      <th>ABDULLAH GÜL ÜNİVERSİTESİ</th>\n",
       "      <td>21.07.2010</td>\n",
       "      <td>DEVLET</td>\n",
       "      <td>KAYSERİ</td>\n",
       "      <td>İÇ ANADOLU</td>\n",
       "    </tr>\n",
       "    <tr>\n",
       "      <th>ACIBADEM MEHMET ALİ AYDINLAR ÜNİVERSİTESİ</th>\n",
       "      <td>18.05.2007</td>\n",
       "      <td>VAKIF</td>\n",
       "      <td>İSTANBUL</td>\n",
       "      <td>MARMARA</td>\n",
       "    </tr>\n",
       "    <tr>\n",
       "      <th>ADANA ALPARSLAN TÜRKEŞ BİLİM VE TEKNOLOJİ ÜNİVERSİTESİ</th>\n",
       "      <td>14.04.2011</td>\n",
       "      <td>DEVLET</td>\n",
       "      <td>ADANA</td>\n",
       "      <td>AKDENİZ</td>\n",
       "    </tr>\n",
       "    <tr>\n",
       "      <th>ADIYAMAN ÜNİVERSİTESİ</th>\n",
       "      <td>17.03.2006</td>\n",
       "      <td>DEVLET</td>\n",
       "      <td>ADIYAMAN</td>\n",
       "      <td>GÜNEYDOĞU ANADOLU</td>\n",
       "    </tr>\n",
       "    <tr>\n",
       "      <th>AFYON KOCATEPE ÜNİVERSİTESİ</th>\n",
       "      <td>11.07.1992</td>\n",
       "      <td>DEVLET</td>\n",
       "      <td>AFYONKARAHİSAR</td>\n",
       "      <td>EGE</td>\n",
       "    </tr>\n",
       "    <tr>\n",
       "      <th>...</th>\n",
       "      <th>...</th>\n",
       "      <td>...</td>\n",
       "      <td>...</td>\n",
       "      <td>...</td>\n",
       "      <td>...</td>\n",
       "    </tr>\n",
       "    <tr>\n",
       "      <th rowspan=\"5\" valign=\"top\">1984</th>\n",
       "      <th>TRAKYA ÜNİVERSİTESİ</th>\n",
       "      <td>20.07.1982</td>\n",
       "      <td>DEVLET</td>\n",
       "      <td>EDİRNE</td>\n",
       "      <td>MARMARA</td>\n",
       "    </tr>\n",
       "    <tr>\n",
       "      <th>ULUDAĞ ÜNİVERSİTESİ</th>\n",
       "      <td>11.04.1975</td>\n",
       "      <td>DEVLET</td>\n",
       "      <td>BURSA</td>\n",
       "      <td>MARMARA</td>\n",
       "    </tr>\n",
       "    <tr>\n",
       "      <th>YILDIZ TEKNİK ÜNİVERSİTESİ</th>\n",
       "      <td>20.07.1982</td>\n",
       "      <td>DEVLET</td>\n",
       "      <td>İSTANBUL</td>\n",
       "      <td>MARMARA</td>\n",
       "    </tr>\n",
       "    <tr>\n",
       "      <th>YILDIZ ÜNİVERSİTESİ</th>\n",
       "      <td>01.01.1982</td>\n",
       "      <td>DEVLET</td>\n",
       "      <td>İSTANBUL</td>\n",
       "      <td>MARMARA</td>\n",
       "    </tr>\n",
       "    <tr>\n",
       "      <th>YÜZÜNCÜ YIL ÜNİVERSİTESİ</th>\n",
       "      <td>20.07.1982</td>\n",
       "      <td>DEVLET</td>\n",
       "      <td>VAN</td>\n",
       "      <td>DOĞU ANADOLU</td>\n",
       "    </tr>\n",
       "  </tbody>\n",
       "</table>\n",
       "<p>4332 rows × 4 columns</p>\n",
       "</div>"
      ],
      "text/plain": [
       "                                                        foundation_year  \\\n",
       "year uni_name                                                             \n",
       "2023 ABDULLAH GÜL ÜNİVERSİTESİ                               21.07.2010   \n",
       "     ACIBADEM MEHMET ALİ AYDINLAR ÜNİVERSİTESİ               18.05.2007   \n",
       "     ADANA ALPARSLAN TÜRKEŞ BİLİM VE TEKNOLOJİ ÜNİVE...      14.04.2011   \n",
       "     ADIYAMAN ÜNİVERSİTESİ                                   17.03.2006   \n",
       "     AFYON KOCATEPE ÜNİVERSİTESİ                             11.07.1992   \n",
       "...                                                                 ...   \n",
       "1984 TRAKYA ÜNİVERSİTESİ                                     20.07.1982   \n",
       "     ULUDAĞ ÜNİVERSİTESİ                                     11.04.1975   \n",
       "     YILDIZ TEKNİK ÜNİVERSİTESİ                              20.07.1982   \n",
       "     YILDIZ ÜNİVERSİTESİ                                     01.01.1982   \n",
       "     YÜZÜNCÜ YIL ÜNİVERSİTESİ                                20.07.1982   \n",
       "\n",
       "                                                           type  \\\n",
       "year uni_name                                                     \n",
       "2023 ABDULLAH GÜL ÜNİVERSİTESİ                           DEVLET   \n",
       "     ACIBADEM MEHMET ALİ AYDINLAR ÜNİVERSİTESİ            VAKIF   \n",
       "     ADANA ALPARSLAN TÜRKEŞ BİLİM VE TEKNOLOJİ ÜNİVE...  DEVLET   \n",
       "     ADIYAMAN ÜNİVERSİTESİ                               DEVLET   \n",
       "     AFYON KOCATEPE ÜNİVERSİTESİ                         DEVLET   \n",
       "...                                                         ...   \n",
       "1984 TRAKYA ÜNİVERSİTESİ                                 DEVLET   \n",
       "     ULUDAĞ ÜNİVERSİTESİ                                 DEVLET   \n",
       "     YILDIZ TEKNİK ÜNİVERSİTESİ                          DEVLET   \n",
       "     YILDIZ ÜNİVERSİTESİ                                 DEVLET   \n",
       "     YÜZÜNCÜ YIL ÜNİVERSİTESİ                            DEVLET   \n",
       "\n",
       "                                                                   city  \\\n",
       "year uni_name                                                             \n",
       "2023 ABDULLAH GÜL ÜNİVERSİTESİ                                  KAYSERİ   \n",
       "     ACIBADEM MEHMET ALİ AYDINLAR ÜNİVERSİTESİ                 İSTANBUL   \n",
       "     ADANA ALPARSLAN TÜRKEŞ BİLİM VE TEKNOLOJİ ÜNİVE...           ADANA   \n",
       "     ADIYAMAN ÜNİVERSİTESİ                                     ADIYAMAN   \n",
       "     AFYON KOCATEPE ÜNİVERSİTESİ                         AFYONKARAHİSAR   \n",
       "...                                                                 ...   \n",
       "1984 TRAKYA ÜNİVERSİTESİ                                         EDİRNE   \n",
       "     ULUDAĞ ÜNİVERSİTESİ                                          BURSA   \n",
       "     YILDIZ TEKNİK ÜNİVERSİTESİ                                İSTANBUL   \n",
       "     YILDIZ ÜNİVERSİTESİ                                       İSTANBUL   \n",
       "     YÜZÜNCÜ YIL ÜNİVERSİTESİ                                       VAN   \n",
       "\n",
       "                                                                    region  \n",
       "year uni_name                                                               \n",
       "2023 ABDULLAH GÜL ÜNİVERSİTESİ                                  İÇ ANADOLU  \n",
       "     ACIBADEM MEHMET ALİ AYDINLAR ÜNİVERSİTESİ                     MARMARA  \n",
       "     ADANA ALPARSLAN TÜRKEŞ BİLİM VE TEKNOLOJİ ÜNİVE...            AKDENİZ  \n",
       "     ADIYAMAN ÜNİVERSİTESİ                               GÜNEYDOĞU ANADOLU  \n",
       "     AFYON KOCATEPE ÜNİVERSİTESİ                                       EGE  \n",
       "...                                                                    ...  \n",
       "1984 TRAKYA ÜNİVERSİTESİ                                           MARMARA  \n",
       "     ULUDAĞ ÜNİVERSİTESİ                                           MARMARA  \n",
       "     YILDIZ TEKNİK ÜNİVERSİTESİ                                    MARMARA  \n",
       "     YILDIZ ÜNİVERSİTESİ                                           MARMARA  \n",
       "     YÜZÜNCÜ YIL ÜNİVERSİTESİ                                 DOĞU ANADOLU  \n",
       "\n",
       "[4332 rows x 4 columns]"
      ]
     },
     "execution_count": 157,
     "metadata": {},
     "output_type": "execute_result"
    }
   ],
   "source": [
    "df.set_index([\"year\",\"uni_name\"])"
   ]
  },
  {
   "cell_type": "markdown",
   "id": "44a89203-881e-42f9-96f8-3aea8e46114f",
   "metadata": {},
   "source": [
    "We can convert city from uppercase to title from for compatibility with other dataframes.<br>\n",
    "However, there is a issue to be handled: Turkish \"İ\" character results in an additional 1 length.<br>\n",
    "This problem is solved by normalizing string as below."
   ]
  },
  {
   "cell_type": "code",
   "execution_count": 240,
   "id": "0c47ad2a-93c9-4d28-9019-2000df6e30f3",
   "metadata": {
    "tags": []
   },
   "outputs": [
    {
     "data": {
      "text/html": [
       "<div>\n",
       "<style scoped>\n",
       "    .dataframe tbody tr th:only-of-type {\n",
       "        vertical-align: middle;\n",
       "    }\n",
       "\n",
       "    .dataframe tbody tr th {\n",
       "        vertical-align: top;\n",
       "    }\n",
       "\n",
       "    .dataframe thead th {\n",
       "        text-align: right;\n",
       "    }\n",
       "</style>\n",
       "<table border=\"1\" class=\"dataframe\">\n",
       "  <thead>\n",
       "    <tr style=\"text-align: right;\">\n",
       "      <th></th>\n",
       "      <th>uni_name</th>\n",
       "      <th>foundation_year</th>\n",
       "      <th>type</th>\n",
       "      <th>city</th>\n",
       "      <th>region</th>\n",
       "      <th>year</th>\n",
       "    </tr>\n",
       "  </thead>\n",
       "  <tbody>\n",
       "    <tr>\n",
       "      <th>0</th>\n",
       "      <td>ABDULLAH GÜL ÜNİVERSİTESİ</td>\n",
       "      <td>21.07.2010</td>\n",
       "      <td>DEVLET</td>\n",
       "      <td>KAYSERİ</td>\n",
       "      <td>İÇ ANADOLU</td>\n",
       "      <td>2023</td>\n",
       "    </tr>\n",
       "    <tr>\n",
       "      <th>1</th>\n",
       "      <td>ACIBADEM MEHMET ALİ AYDINLAR ÜNİVERSİTESİ</td>\n",
       "      <td>18.05.2007</td>\n",
       "      <td>VAKIF</td>\n",
       "      <td>İSTANBUL</td>\n",
       "      <td>MARMARA</td>\n",
       "      <td>2023</td>\n",
       "    </tr>\n",
       "  </tbody>\n",
       "</table>\n",
       "</div>"
      ],
      "text/plain": [
       "                                    uni_name foundation_year    type  \\\n",
       "0                  ABDULLAH GÜL ÜNİVERSİTESİ      21.07.2010  DEVLET   \n",
       "1  ACIBADEM MEHMET ALİ AYDINLAR ÜNİVERSİTESİ      18.05.2007   VAKIF   \n",
       "\n",
       "       city      region  year  \n",
       "0   KAYSERİ  İÇ ANADOLU  2023  \n",
       "1  İSTANBUL     MARMARA  2023  "
      ]
     },
     "execution_count": 240,
     "metadata": {},
     "output_type": "execute_result"
    }
   ],
   "source": [
    "# this code is necessary to fix issue for 'İ'\n",
    "#By normalizing the string using NFC (Normalization Form Canonical Composition)\n",
    "# we ensure that the special character 'İ' is represented as a single character\n",
    "# otherwise the length becomes 1 more than the actual length\n",
    "def normalize_string(s):\n",
    "    return unicodedata.normalize('NFC', s)\n",
    "df[\"city\"] = df[\"city\"].apply(lambda x: normalize_string(x))\n",
    "df.head(2)"
   ]
  },
  {
   "cell_type": "markdown",
   "id": "34824a3f-f93f-4fc6-aadf-523f58c9e3c8",
   "metadata": {},
   "source": [
    "Let's check number of unique city names (it should be 81)."
   ]
  },
  {
   "cell_type": "code",
   "execution_count": 241,
   "id": "8370e01d-b11a-4cde-8eea-6cb1c2ed04af",
   "metadata": {
    "tags": []
   },
   "outputs": [
    {
     "data": {
      "text/plain": [
       "81"
      ]
     },
     "execution_count": 241,
     "metadata": {},
     "output_type": "execute_result"
    }
   ],
   "source": [
    "df[\"city\"].nunique()"
   ]
  },
  {
   "cell_type": "markdown",
   "id": "34dd50f7-fa7f-4079-b406-ed8bf99adb57",
   "metadata": {},
   "source": [
    "Here, we apply str.title method city names to match with the other dataframe df_years_universities which we will use in the next notebook.<br>\n",
    "However, we have to handle the conversion of the Turkish characters  \"İ\" and \"ı\"."
   ]
  },
  {
   "cell_type": "code",
   "execution_count": 5,
   "id": "465151dd-5439-47ac-bb49-c40fdf061e10",
   "metadata": {
    "tags": []
   },
   "outputs": [],
   "source": [
    "lower_map = {ord(u'I'): u'ı',ord(u'İ'): u'i' }\n",
    "def lower_fix_letter_i(x):\n",
    "    return x.translate(lower_map)\n",
    "def title_fix_letter_i(x):\n",
    "    if x[0]==\"i\":\n",
    "        x=\"İ\"+x[1:]\n",
    "    return x\n",
    "\n",
    "df[\"city\"] = df[\"city\"].apply(lower_fix_letter_i)\n",
    "df[\"city\"] = df[\"city\"].apply(title_fix_letter_i)\n",
    "df[\"city\"] = df[\"city\"].apply(str.title)"
   ]
  },
  {
   "cell_type": "markdown",
   "id": "9fc8c94a-43c8-4e18-a3f7-a7eafc60d4c6",
   "metadata": {},
   "source": [
    "Finally, we can save df."
   ]
  },
  {
   "cell_type": "code",
   "execution_count": 6,
   "id": "dda29d10-8e02-420d-b207-50ff7ad3537e",
   "metadata": {
    "tags": []
   },
   "outputs": [],
   "source": [
    "df.to_csv(\"df_years_universities.csv\",index=False)"
   ]
  },
  {
   "cell_type": "markdown",
   "id": "690edf05-0530-4240-87d5-4794644762f6",
   "metadata": {},
   "source": [
    "### 4- Plotting total number of universities by years"
   ]
  },
  {
   "cell_type": "code",
   "execution_count": 2,
   "id": "4b323b2a-960f-4bd4-9c2f-877c2d84b093",
   "metadata": {
    "tags": []
   },
   "outputs": [
    {
     "data": {
      "text/html": [
       "<div>\n",
       "<style scoped>\n",
       "    .dataframe tbody tr th:only-of-type {\n",
       "        vertical-align: middle;\n",
       "    }\n",
       "\n",
       "    .dataframe tbody tr th {\n",
       "        vertical-align: top;\n",
       "    }\n",
       "\n",
       "    .dataframe thead th {\n",
       "        text-align: right;\n",
       "    }\n",
       "</style>\n",
       "<table border=\"1\" class=\"dataframe\">\n",
       "  <thead>\n",
       "    <tr style=\"text-align: right;\">\n",
       "      <th>type</th>\n",
       "      <th>DEVLET</th>\n",
       "      <th>VAKIF</th>\n",
       "      <th>VAKIF MYO</th>\n",
       "    </tr>\n",
       "    <tr>\n",
       "      <th>year</th>\n",
       "      <th></th>\n",
       "      <th></th>\n",
       "      <th></th>\n",
       "    </tr>\n",
       "  </thead>\n",
       "  <tbody>\n",
       "    <tr>\n",
       "      <th>1984</th>\n",
       "      <td>27</td>\n",
       "      <td>0</td>\n",
       "      <td>0</td>\n",
       "    </tr>\n",
       "    <tr>\n",
       "      <th>1985</th>\n",
       "      <td>27</td>\n",
       "      <td>1</td>\n",
       "      <td>0</td>\n",
       "    </tr>\n",
       "    <tr>\n",
       "      <th>1986</th>\n",
       "      <td>27</td>\n",
       "      <td>1</td>\n",
       "      <td>0</td>\n",
       "    </tr>\n",
       "    <tr>\n",
       "      <th>1987</th>\n",
       "      <td>28</td>\n",
       "      <td>1</td>\n",
       "      <td>0</td>\n",
       "    </tr>\n",
       "    <tr>\n",
       "      <th>1988</th>\n",
       "      <td>28</td>\n",
       "      <td>1</td>\n",
       "      <td>0</td>\n",
       "    </tr>\n",
       "  </tbody>\n",
       "</table>\n",
       "</div>"
      ],
      "text/plain": [
       "type  DEVLET  VAKIF  VAKIF MYO\n",
       "year                          \n",
       "1984      27      0          0\n",
       "1985      27      1          0\n",
       "1986      27      1          0\n",
       "1987      28      1          0\n",
       "1988      28      1          0"
      ]
     },
     "execution_count": 2,
     "metadata": {},
     "output_type": "execute_result"
    }
   ],
   "source": [
    "df = pd.read_csv(\"df_years_universities.csv\")\n",
    "df_year_counts=df[[\"year\",\"type\"]].value_counts().to_frame()\n",
    "df_year_counts=df_year_counts.reset_index().pivot_table(index='year', columns='type', values='count', fill_value=0)\n",
    "df_year_counts.head()"
   ]
  },
  {
   "cell_type": "code",
   "execution_count": 30,
   "id": "89efc9f6-6385-460b-ae48-59a069d82253",
   "metadata": {
    "tags": []
   },
   "outputs": [
    {
     "name": "stderr",
     "output_type": "stream",
     "text": [
      "The PostScript backend does not support transparency; partially transparent artists will be rendered opaque.\n"
     ]
    },
    {
     "data": {
      "image/png": "[encoded data removed]",
      "text/plain": [
       "<Figure size 1200x800 with 1 Axes>"
      ]
     },
     "metadata": {},
     "output_type": "display_data"
    }
   ],
   "source": [
    "fig, ax = plt.subplots(1,figsize=(12,8))\n",
    "x_vals= range(1984,2024)\n",
    "plt.xticks(x_vals, rotation=\"vertical\")\n",
    "ax.tick_params(axis='both', which='major', labelsize=12)\n",
    "\n",
    "bottom = np.zeros(40)\n",
    "for boolean, count in df_year_counts[[\"DEVLET\",\"VAKIF\"]].items():\n",
    "    p = ax.bar(x = x_vals,  height=count,  bottom=bottom)\n",
    "    bottom += count\n",
    "\n",
    "plt.ylabel(\"Total number of universities\",size=14)\n",
    "plt.xlabel(\"Year\",size=14)\n",
    "for x, (n_state,n_foundation) in zip(range(1984, 2024),  df_year_counts[[\"DEVLET\",\"VAKIF\"]].to_numpy()):\n",
    "    ax.text(x, n_state/2, str(n_state), ha=\"center\", va=\"center\", fontsize=10, c=\"white\")\n",
    "    ax.text(x, n_state+n_foundation/2, str(n_foundation), ha=\"center\", va=\"center\", fontsize=10)\n",
    "    ax.text(x, n_state+n_foundation+5, str(n_state+n_foundation), ha=\"center\", va=\"bottom\", fontsize=10)\n",
    "#for x, height in zip(range(1984, 2024),  df_year_counts[[\"DEVLET\",\"VAKIF\"]].sum(axis=1)):\n",
    "#    ax.text(x, height+5, str(height), ha=\"center\", va=\"bottom\", fontsize=10)\n",
    "plt.title(\"Total number of universities by year in Turkey since 1984\")\n",
    "\n",
    "plt.tight_layout()\n",
    "ax.margins(x=0.01)\n",
    "ax.legend(labels=[\"Number of state universities\",\"Number of foundation universities\"])\n",
    "plt.savefig('number_of_universities_by_year.eps', format='eps')\n",
    "#fig.savefig('myimage.jpeg', format='jpeg', dpi=300)"
   ]
  },
  {
   "cell_type": "code",
   "execution_count": null,
   "id": "9697cb60-180e-4d45-8315-de6d4b6e345e",
   "metadata": {},
   "outputs": [],
   "source": []
  }
 ],
 "metadata": {
  "kernelspec": {
   "display_name": "Python 3 (ipykernel)",
   "language": "python",
   "name": "python3"
  },
  "language_info": {
   "codemirror_mode": {
    "name": "ipython",
    "version": 3
   },
   "file_extension": ".py",
   "mimetype": "text/x-python",
   "name": "python",
   "nbconvert_exporter": "python",
   "pygments_lexer": "ipython3",
   "version": "3.12.3"
  }
 },
 "nbformat": 4,
 "nbformat_minor": 5
}
