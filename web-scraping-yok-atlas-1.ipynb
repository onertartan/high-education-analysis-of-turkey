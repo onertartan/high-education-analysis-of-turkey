{
 "cells": [
  {
   "cell_type": "code",
   "execution_count": 1,
   "id": "e213c18e-8ba1-49c9-a901-5ee3598d7849",
   "metadata": {
    "tags": []
   },
   "outputs": [],
   "source": [
    "from selenium import webdriver\n",
    "from selenium.webdriver.chrome.service import Service\n",
    "from selenium.webdriver.common.by import By\n",
    "from selenium.webdriver.support.ui import WebDriverWait\n",
    "from selenium.webdriver.support import expected_conditions as EC\n",
    "import pandas as pd"
   ]
  },
  {
   "cell_type": "markdown",
   "id": "e85db41f-2f4e-4125-825b-76363de75344",
   "metadata": {},
   "source": [
    "<p>ChromeDriver is a separate executable that Selenium WebDriver uses to control Chrome. It is maintained by the Chromium team with help from WebDriver contributors. If you are unfamiliar with Selenium WebDriver, you should check out the <a href=\"https://www.selenium.dev/\">Selenium site</a>.</p>"
   ]
  },
  {
   "cell_type": "markdown",
   "id": "701dc4bf-14d1-4a99-a971-4623357516d6",
   "metadata": {},
   "source": [
    "https://googlechromelabs.github.io/chrome-for-testing/"
   ]
  },
  {
   "cell_type": "markdown",
   "id": "2e86bdfc-6a6b-4984-8ace-4eaeb442b114",
   "metadata": {},
   "source": [
    "## 1. Create df dataframe including university code, type(state or private) and name"
   ]
  },
  {
   "cell_type": "code",
   "execution_count": 1059,
   "id": "9feaf550-727c-442d-adec-b05eb3c8673e",
   "metadata": {
    "tags": []
   },
   "outputs": [
    {
     "name": "stdout",
     "output_type": "stream",
     "text": [
      "Shape of the df: (224, 3)\n"
     ]
    },
    {
     "data": {
      "text/html": [
       "<div>\n",
       "<style scoped>\n",
       "    .dataframe tbody tr th:only-of-type {\n",
       "        vertical-align: middle;\n",
       "    }\n",
       "\n",
       "    .dataframe tbody tr th {\n",
       "        vertical-align: top;\n",
       "    }\n",
       "\n",
       "    .dataframe thead th {\n",
       "        text-align: right;\n",
       "    }\n",
       "</style>\n",
       "<table border=\"1\" class=\"dataframe\">\n",
       "  <thead>\n",
       "    <tr style=\"text-align: right;\">\n",
       "      <th></th>\n",
       "      <th>uni_code</th>\n",
       "      <th>uni_type</th>\n",
       "      <th>uni_name</th>\n",
       "    </tr>\n",
       "  </thead>\n",
       "  <tbody>\n",
       "    <tr>\n",
       "      <th>0</th>\n",
       "      <td>1065</td>\n",
       "      <td>Devlet</td>\n",
       "      <td>ABDULLAH GÜL ÜNİVERSİTESİ</td>\n",
       "    </tr>\n",
       "    <tr>\n",
       "      <th>1</th>\n",
       "      <td>1104</td>\n",
       "      <td>Devlet</td>\n",
       "      <td>ADANA ALPARSLAN TÜRKEŞ BİLİM VE TEKNOLOJİ ÜNİV...</td>\n",
       "    </tr>\n",
       "    <tr>\n",
       "      <th>2</th>\n",
       "      <td>1002</td>\n",
       "      <td>Devlet</td>\n",
       "      <td>ADIYAMAN ÜNİVERSİTESİ</td>\n",
       "    </tr>\n",
       "  </tbody>\n",
       "</table>\n",
       "</div>"
      ],
      "text/plain": [
       "   uni_code uni_type                                           uni_name\n",
       "0      1065   Devlet                          ABDULLAH GÜL ÜNİVERSİTESİ\n",
       "1      1104   Devlet  ADANA ALPARSLAN TÜRKEŞ BİLİM VE TEKNOLOJİ ÜNİV...\n",
       "2      1002   Devlet                              ADIYAMAN ÜNİVERSİTESİ"
      ]
     },
     "execution_count": 1059,
     "metadata": {},
     "output_type": "execute_result"
    }
   ],
   "source": [
    "service = Service(\"chromedriver.exe\")\n",
    "driver= webdriver.Chrome(service=service)\n",
    "driver.get(\"https://yokatlas.yok.gov.tr/lisans-anasayfa.php\")\n",
    "driver.maximize_window()\n",
    "driver.implicitly_wait(5)\n",
    "optgroups = driver.find_elements(by=By.XPATH,value=\"//optgroup[@label]\")[:4]\n",
    "labels = [optgroup.get_attribute(\"label\").split()[0] for optgroup in optgroups]\n",
    "universities = { } # Create a dictionary  {\"state\":{uni_code:uni_name,....}, {\"private\":{uni_code:uni_name,...}  }\n",
    " \n",
    "for label , optgroup in zip(labels,optgroups):\n",
    "    options = optgroup.find_elements (by=By.TAG_NAME,value=\"option\")\n",
    "    universities[label] = {int(option.get_attribute(\"value\")):option.get_attribute(\"innerText\").strip()  for option in options}\n",
    "df =pd.DataFrame.from_dict(universities).stack().to_frame().reset_index()\n",
    "df.columns = [\"uni_code\",\"uni_type\",\"uni_name\"]\n",
    "print(\"Shape of the df:\",df.shape) \n",
    "df.head(3)  "
   ]
  },
  {
   "cell_type": "markdown",
   "id": "c0be630f-73af-4057-b810-68ff8bd9a618",
   "metadata": {},
   "source": [
    "## 2- Create df_city with the columns \"city name\" and \"university name\""
   ]
  },
  {
   "cell_type": "markdown",
   "id": "9a380c61-1923-4429-ae3d-6235190b06d0",
   "metadata": {},
   "source": [
    " In this step we use another url that gives universities and cities."
   ]
  },
  {
   "cell_type": "code",
   "execution_count": 1060,
   "id": "f2767fdd-6bb0-474f-8a08-d34b5911a299",
   "metadata": {
    "tags": []
   },
   "outputs": [
    {
     "name": "stdout",
     "output_type": "stream",
     "text": [
      "Shape of the dataframe df_city: (205, 2)\n",
      "Number of unique cities 81\n"
     ]
    },
    {
     "data": {
      "text/html": [
       "<div>\n",
       "<style scoped>\n",
       "    .dataframe tbody tr th:only-of-type {\n",
       "        vertical-align: middle;\n",
       "    }\n",
       "\n",
       "    .dataframe tbody tr th {\n",
       "        vertical-align: top;\n",
       "    }\n",
       "\n",
       "    .dataframe thead th {\n",
       "        text-align: right;\n",
       "    }\n",
       "</style>\n",
       "<table border=\"1\" class=\"dataframe\">\n",
       "  <thead>\n",
       "    <tr style=\"text-align: right;\">\n",
       "      <th></th>\n",
       "      <th>city</th>\n",
       "      <th>uni_name</th>\n",
       "    </tr>\n",
       "  </thead>\n",
       "  <tbody>\n",
       "    <tr>\n",
       "      <th>0</th>\n",
       "      <td>Kayseri</td>\n",
       "      <td>ABDULLAH GÜL ÜNİVERSİTESİ</td>\n",
       "    </tr>\n",
       "    <tr>\n",
       "      <th>1</th>\n",
       "      <td>İstanbul</td>\n",
       "      <td>ACIBADEM MEHMET ALİ AYDINLAR ÜNİVERSİTESİ</td>\n",
       "    </tr>\n",
       "    <tr>\n",
       "      <th>2</th>\n",
       "      <td>Adana</td>\n",
       "      <td>ADANA ALPARSLAN TÜRKEŞ BİLİM VE TEKNOLOJİ ÜNİV...</td>\n",
       "    </tr>\n",
       "  </tbody>\n",
       "</table>\n",
       "</div>"
      ],
      "text/plain": [
       "       city                                           uni_name\n",
       "0   Kayseri                          ABDULLAH GÜL ÜNİVERSİTESİ\n",
       "1  İstanbul          ACIBADEM MEHMET ALİ AYDINLAR ÜNİVERSİTESİ\n",
       "2     Adana  ADANA ALPARSLAN TÜRKEŞ BİLİM VE TEKNOLOJİ ÜNİV..."
      ]
     },
     "execution_count": 1060,
     "metadata": {},
     "output_type": "execute_result"
    }
   ],
   "source": [
    "driver.get(\"https://yokatlas.yok.gov.tr/universite.php\")\n",
    "driver.implicitly_wait(10)\n",
    "city_web_elements = driver.find_elements(by=By.CLASS_NAME, value=\"sehir\")\n",
    "cities = [web_element.get_attribute(\"innerText\").strip() for web_element in city_web_elements]\n",
    "\n",
    "name_web_elements = driver.find_elements(by=By.CLASS_NAME, value=\"baslik\")\n",
    "names =[web_element.get_attribute(\"innerText\").strip() for web_element in name_web_elements]\n",
    "\n",
    "df_city = pd.DataFrame({\"city\":cities,\"uni_name\":names})\n",
    "print(\"Shape of the dataframe df_city:\",df_city.shape)\n",
    "print(\"Number of unique cities\",df_city[\"city\"].nunique())\n",
    "df_city.head(3)"
   ]
  },
  {
   "cell_type": "markdown",
   "id": "601883e0-34d2-4222-a1d4-b4dbc2c44896",
   "metadata": {},
   "source": [
    "## 3-Merge the two dataframes: df and df_city as df"
   ]
  },
  {
   "cell_type": "code",
   "execution_count": 1061,
   "id": "9ba780a4-c03b-4799-9f99-23515ef91741",
   "metadata": {
    "tags": []
   },
   "outputs": [
    {
     "name": "stdout",
     "output_type": "stream",
     "text": [
      "New shape of df after dropping rows those not match on df_city(universities abroad): (205, 4)\n"
     ]
    },
    {
     "data": {
      "text/html": [
       "<div>\n",
       "<style scoped>\n",
       "    .dataframe tbody tr th:only-of-type {\n",
       "        vertical-align: middle;\n",
       "    }\n",
       "\n",
       "    .dataframe tbody tr th {\n",
       "        vertical-align: top;\n",
       "    }\n",
       "\n",
       "    .dataframe thead th {\n",
       "        text-align: right;\n",
       "    }\n",
       "</style>\n",
       "<table border=\"1\" class=\"dataframe\">\n",
       "  <thead>\n",
       "    <tr style=\"text-align: right;\">\n",
       "      <th></th>\n",
       "      <th>uni_code</th>\n",
       "      <th>uni_type</th>\n",
       "      <th>uni_name</th>\n",
       "      <th>city</th>\n",
       "    </tr>\n",
       "  </thead>\n",
       "  <tbody>\n",
       "    <tr>\n",
       "      <th>0</th>\n",
       "      <td>1065.0</td>\n",
       "      <td>Devlet</td>\n",
       "      <td>ABDULLAH GÜL ÜNİVERSİTESİ</td>\n",
       "      <td>Kayseri</td>\n",
       "    </tr>\n",
       "    <tr>\n",
       "      <th>1</th>\n",
       "      <td>2001.0</td>\n",
       "      <td>Vakıf</td>\n",
       "      <td>ACIBADEM MEHMET ALİ AYDINLAR ÜNİVERSİTESİ</td>\n",
       "      <td>İstanbul</td>\n",
       "    </tr>\n",
       "    <tr>\n",
       "      <th>2</th>\n",
       "      <td>1104.0</td>\n",
       "      <td>Devlet</td>\n",
       "      <td>ADANA ALPARSLAN TÜRKEŞ BİLİM VE TEKNOLOJİ ÜNİV...</td>\n",
       "      <td>Adana</td>\n",
       "    </tr>\n",
       "  </tbody>\n",
       "</table>\n",
       "</div>"
      ],
      "text/plain": [
       "   uni_code uni_type                                           uni_name  \\\n",
       "0    1065.0   Devlet                          ABDULLAH GÜL ÜNİVERSİTESİ   \n",
       "1    2001.0    Vakıf          ACIBADEM MEHMET ALİ AYDINLAR ÜNİVERSİTESİ   \n",
       "2    1104.0   Devlet  ADANA ALPARSLAN TÜRKEŞ BİLİM VE TEKNOLOJİ ÜNİV...   \n",
       "\n",
       "       city  \n",
       "0   Kayseri  \n",
       "1  İstanbul  \n",
       "2     Adana  "
      ]
     },
     "execution_count": 1061,
     "metadata": {},
     "output_type": "execute_result"
    }
   ],
   "source": [
    "df = df.merge(df_city, on=\"uni_name\", how='right')\n",
    "print(\"New shape of df after dropping rows those not match on df_city(universities abroad):\",df.shape)\n",
    "df.head(3)"
   ]
  },
  {
   "cell_type": "code",
   "execution_count": 1062,
   "id": "1eb7ca32-1749-4c3d-bb0a-7cc2281266d5",
   "metadata": {
    "tags": []
   },
   "outputs": [
    {
     "name": "stdout",
     "output_type": "stream",
     "text": [
      "Number of state universities: 126\n"
     ]
    }
   ],
   "source": [
    "print(\"Number of state universities:\",len(df.loc[df['uni_type']=='Devlet']))"
   ]
  },
  {
   "cell_type": "markdown",
   "id": "c1564868-408e-4921-b638-b250ba417267",
   "metadata": {},
   "source": [
    "## 4-Data Pre-Processing"
   ]
  },
  {
   "cell_type": "markdown",
   "id": "3f73e580-1103-49cf-8b46-789cbc53aa73",
   "metadata": {},
   "source": [
    "**The number of universities has dropped to 205 from 224, because we merged dataframes on cities in Turkey. 19 universities abroad have been dropped.<br>\n",
    " The number of state universities must be 129. The missing 3 universities are**\n",
    "* TÜRKİYE ULUSLARARASI İSLAM, BİLİM VE TEKNOLOJİ ÜNİVERSİTESİ\n",
    "* TÜRK-JAPON BİLİM VE TEKNOLOJİ ÜNİVERSİTESİ\n",
    "* ANKARA MÜZİK VE GÜZEL SANATLAR ÜNİVERSİTESİ\t<br>\n",
    "The first two universities do not accept students yet. Therefore, they are not given on YOK Atlas website. <br>\n",
    "Third university's  uni_type and uni_code values are missing. We generate an id and set uni_type as \"state\"."
   ]
  },
  {
   "cell_type": "markdown",
   "id": "9cea1b3c-ab6f-4717-8af5-9bd88d2e15a8",
   "metadata": {},
   "source": [
    " #### 4-1. Set missing uni_type and uni_code of *ANKARA MÜZİK VE GÜZEL SANATLAR ÜNİVERSİTESİ*"
   ]
  },
  {
   "cell_type": "code",
   "execution_count": 1063,
   "id": "0750809e-f4b0-402d-ab69-dc8f0a81cbea",
   "metadata": {
    "tags": []
   },
   "outputs": [],
   "source": [
    "df.loc[df[\"uni_name\"]==\"ANKARA MÜZİK VE GÜZEL SANATLAR ÜNİVERSİTESİ\",\"uni_code\"]= 1\n",
    "df.loc[df[\"uni_name\"]==\"ANKARA MÜZİK VE GÜZEL SANATLAR ÜNİVERSİTESİ\",\"uni_type\"]= \"Devlet\""
   ]
  },
  {
   "cell_type": "markdown",
   "id": "b53fe9de-50c2-4c9e-a823-006a4275faf1",
   "metadata": {},
   "source": [
    " #### 4-2. Drop rows with missing values (vocational schools)"
   ]
  },
  {
   "cell_type": "markdown",
   "id": "99b4df94-b0c4-4c86-aa34-9d12a3f28b0c",
   "metadata": {},
   "source": [
    "There are vocational schools which only include 2-year pre-license programs. These schools do not include bachelor degree programs.<br>\n",
    "Type and uni_code of these schools are na. We drop them in this context."
   ]
  },
  {
   "cell_type": "code",
   "execution_count": 1064,
   "id": "1bac3e2f-a4ba-46f1-9a5e-3b8fd728b764",
   "metadata": {
    "tags": []
   },
   "outputs": [
    {
     "data": {
      "text/html": [
       "<div>\n",
       "<style scoped>\n",
       "    .dataframe tbody tr th:only-of-type {\n",
       "        vertical-align: middle;\n",
       "    }\n",
       "\n",
       "    .dataframe tbody tr th {\n",
       "        vertical-align: top;\n",
       "    }\n",
       "\n",
       "    .dataframe thead th {\n",
       "        text-align: right;\n",
       "    }\n",
       "</style>\n",
       "<table border=\"1\" class=\"dataframe\">\n",
       "  <thead>\n",
       "    <tr style=\"text-align: right;\">\n",
       "      <th></th>\n",
       "      <th>uni_code</th>\n",
       "      <th>uni_type</th>\n",
       "      <th>uni_name</th>\n",
       "      <th>city</th>\n",
       "    </tr>\n",
       "  </thead>\n",
       "  <tbody>\n",
       "    <tr>\n",
       "      <th>25</th>\n",
       "      <td>NaN</td>\n",
       "      <td>NaN</td>\n",
       "      <td>ATAŞEHİR ADIGÜZEL MESLEK YÜKSEKOKULU</td>\n",
       "      <td>İstanbul</td>\n",
       "    </tr>\n",
       "    <tr>\n",
       "      <th>106</th>\n",
       "      <td>NaN</td>\n",
       "      <td>NaN</td>\n",
       "      <td>İSTANBUL SAĞLIK VE SOSYAL BİLİMLER MESLEK YÜKS...</td>\n",
       "      <td>İstanbul</td>\n",
       "    </tr>\n",
       "    <tr>\n",
       "      <th>108</th>\n",
       "      <td>NaN</td>\n",
       "      <td>NaN</td>\n",
       "      <td>İSTANBUL ŞİŞLİ MESLEK YÜKSEKOKULU</td>\n",
       "      <td>İstanbul</td>\n",
       "    </tr>\n",
       "    <tr>\n",
       "      <th>120</th>\n",
       "      <td>NaN</td>\n",
       "      <td>NaN</td>\n",
       "      <td>İZMİR KAVRAM MESLEK YÜKSEKOKULU</td>\n",
       "      <td>İzmir</td>\n",
       "    </tr>\n",
       "  </tbody>\n",
       "</table>\n",
       "</div>"
      ],
      "text/plain": [
       "     uni_code uni_type                                           uni_name  \\\n",
       "25        NaN      NaN               ATAŞEHİR ADIGÜZEL MESLEK YÜKSEKOKULU   \n",
       "106       NaN      NaN  İSTANBUL SAĞLIK VE SOSYAL BİLİMLER MESLEK YÜKS...   \n",
       "108       NaN      NaN                  İSTANBUL ŞİŞLİ MESLEK YÜKSEKOKULU   \n",
       "120       NaN      NaN                    İZMİR KAVRAM MESLEK YÜKSEKOKULU   \n",
       "\n",
       "         city  \n",
       "25   İstanbul  \n",
       "106  İstanbul  \n",
       "108  İstanbul  \n",
       "120     İzmir  "
      ]
     },
     "execution_count": 1064,
     "metadata": {},
     "output_type": "execute_result"
    }
   ],
   "source": [
    "df [df[\"uni_code\"].isna() ]"
   ]
  },
  {
   "cell_type": "markdown",
   "id": "1321ec47-9d9e-4d66-881a-1d9f8cef9dee",
   "metadata": {},
   "source": [
    "We drop the vocational schools."
   ]
  },
  {
   "cell_type": "code",
   "execution_count": 1072,
   "id": "98408e09-cdc0-4a3e-9a44-5e754660b261",
   "metadata": {
    "tags": []
   },
   "outputs": [
    {
     "name": "stdout",
     "output_type": "stream",
     "text": [
      "Any missing values: False\n"
     ]
    }
   ],
   "source": [
    "df.dropna(axis=0,inplace=True)\n",
    "print(\"Any missing values:\",df.isna().any(axis=None))"
   ]
  },
  {
   "cell_type": "markdown",
   "id": "3f5866c3-c945-4a9b-a36e-f35fa86d036d",
   "metadata": {},
   "source": [
    "Now there are no missing values."
   ]
  },
  {
   "cell_type": "code",
   "execution_count": 1073,
   "id": "75bbda2f-961e-4c85-90bf-35b77fb79a2e",
   "metadata": {
    "tags": []
   },
   "outputs": [
    {
     "name": "stdout",
     "output_type": "stream",
     "text": [
      "Shape of the df after dropping vocational schools (208, 4)\n"
     ]
    }
   ],
   "source": [
    "print(\"Shape of the df after dropping vocational schools\",df.shape)"
   ]
  },
  {
   "cell_type": "markdown",
   "id": "75cac939-a16d-44ca-859e-9dbd354ec971",
   "metadata": {},
   "source": [
    " #### 4-3. Drop rows with missing values (vocational schools)"
   ]
  },
  {
   "cell_type": "markdown",
   "id": "45db1ecb-1dff-4153-b073-50196bf791d3",
   "metadata": {},
   "source": [
    "SAĞLIK BİLİMLERİ ÜNİVERSİTESİ medicine department has several campuses in different cities. We add these seperately."
   ]
  },
  {
   "cell_type": "code",
   "execution_count": 1077,
   "id": "664b5360-1bd7-4ba9-9e96-eca379bf0784",
   "metadata": {
    "tags": []
   },
   "outputs": [],
   "source": [
    "df.loc[len(df)]=[1110,\"Devlet\",\"SAĞLIK BİLİMLERİ ÜNİVERSİTESİ\",\"Ankara\"]\n",
    "df.loc[len(df)]=[1110,\"Devlet\",\"SAĞLIK BİLİMLERİ ÜNİVERSİTESİ\",\"Adana\"]\n",
    "df.loc[len(df)]=[1110,\"Devlet\",\"SAĞLIK BİLİMLERİ ÜNİVERSİTESİ\",\"Erzurum\"]\n",
    "df.loc[len(df)]=[1110,\"Devlet\",\"SAĞLIK BİLİMLERİ ÜNİVERSİTESİ\",\"Bursa\"]\n",
    "df.loc[len(df)]=[1110,\"Devlet\",\"SAĞLIK BİLİMLERİ ÜNİVERSİTESİ\",\"Trabzon\"]\n",
    "df.loc[len(df)]=[1110,\"Devlet\",\"SAĞLIK BİLİMLERİ ÜNİVERSİTESİ\",\"İzmir\"]\n",
    "df.loc[len(df)]=[1110,\"Devlet\",\"SAĞLIK BİLİMLERİ ÜNİVERSİTESİ\",\"Kayseri\"]"
   ]
  },
  {
   "cell_type": "code",
   "execution_count": 1078,
   "id": "970e743f-2f8d-4c4e-9210-2c3f1950326a",
   "metadata": {
    "tags": []
   },
   "outputs": [
    {
     "name": "stdout",
     "output_type": "stream",
     "text": [
      "Shape of the df after adding cities for SAĞLIK BİLİMLERİ ÜNİVERSİTESİ (208, 4)\n"
     ]
    }
   ],
   "source": [
    "print(\"Shape of the df after adding cities for SAĞLIK BİLİMLERİ ÜNİVERSİTESİ\",df.shape)"
   ]
  },
  {
   "cell_type": "markdown",
   "id": "f9618826-7941-464b-917a-7760f9fbce42",
   "metadata": {},
   "source": [
    " #### 4-4. Converting data type and arranging columns"
   ]
  },
  {
   "cell_type": "markdown",
   "id": "6d219864-dfde-4452-ba72-8a8f01e1cfcf",
   "metadata": {},
   "source": [
    "We can convert uni_code columns to int type."
   ]
  },
  {
   "cell_type": "code",
   "execution_count": 1079,
   "id": "3b453551-e3b3-4448-9f2f-df7dc3187e04",
   "metadata": {
    "tags": []
   },
   "outputs": [],
   "source": [
    "df[\"uni_code\"] = df[\"uni_code\"].astype(\"int\")"
   ]
  },
  {
   "cell_type": "markdown",
   "id": "d95ae7ea-afd4-4697-a143-4f0fc21e9dcb",
   "metadata": {
    "tags": []
   },
   "source": [
    "We can rearrange the dataframe using multi_indexing."
   ]
  },
  {
   "cell_type": "code",
   "execution_count": 1081,
   "id": "df44692f-dc14-485d-8f97-8d3165fd2bd7",
   "metadata": {
    "tags": []
   },
   "outputs": [
    {
     "data": {
      "text/html": [
       "<div>\n",
       "<style scoped>\n",
       "    .dataframe tbody tr th:only-of-type {\n",
       "        vertical-align: middle;\n",
       "    }\n",
       "\n",
       "    .dataframe tbody tr th {\n",
       "        vertical-align: top;\n",
       "    }\n",
       "\n",
       "    .dataframe thead th {\n",
       "        text-align: right;\n",
       "    }\n",
       "</style>\n",
       "<table border=\"1\" class=\"dataframe\">\n",
       "  <thead>\n",
       "    <tr style=\"text-align: right;\">\n",
       "      <th></th>\n",
       "      <th>uni_type</th>\n",
       "      <th>city</th>\n",
       "      <th>uni_name</th>\n",
       "      <th>uni_code</th>\n",
       "    </tr>\n",
       "  </thead>\n",
       "  <tbody>\n",
       "    <tr>\n",
       "      <th>0</th>\n",
       "      <td>Devlet</td>\n",
       "      <td>Kayseri</td>\n",
       "      <td>ABDULLAH GÜL ÜNİVERSİTESİ</td>\n",
       "      <td>1065</td>\n",
       "    </tr>\n",
       "    <tr>\n",
       "      <th>1</th>\n",
       "      <td>Vakıf</td>\n",
       "      <td>İstanbul</td>\n",
       "      <td>ACIBADEM MEHMET ALİ AYDINLAR ÜNİVERSİTESİ</td>\n",
       "      <td>2001</td>\n",
       "    </tr>\n",
       "    <tr>\n",
       "      <th>2</th>\n",
       "      <td>Devlet</td>\n",
       "      <td>Adana</td>\n",
       "      <td>ADANA ALPARSLAN TÜRKEŞ BİLİM VE TEKNOLOJİ ÜNİV...</td>\n",
       "      <td>1104</td>\n",
       "    </tr>\n",
       "  </tbody>\n",
       "</table>\n",
       "</div>"
      ],
      "text/plain": [
       "  uni_type      city                                           uni_name  \\\n",
       "0   Devlet   Kayseri                          ABDULLAH GÜL ÜNİVERSİTESİ   \n",
       "1    Vakıf  İstanbul          ACIBADEM MEHMET ALİ AYDINLAR ÜNİVERSİTESİ   \n",
       "2   Devlet     Adana  ADANA ALPARSLAN TÜRKEŞ BİLİM VE TEKNOLOJİ ÜNİV...   \n",
       "\n",
       "   uni_code  \n",
       "0      1065  \n",
       "1      2001  \n",
       "2      1104  "
      ]
     },
     "execution_count": 1081,
     "metadata": {},
     "output_type": "execute_result"
    }
   ],
   "source": [
    "df = df[[\"uni_type\",\"city\",\"uni_name\",\"uni_code\"]]\n",
    "df.head(3)"
   ]
  },
  {
   "cell_type": "code",
   "execution_count": 736,
   "id": "3b393185-3ee3-40e0-b565-973088b22bd4",
   "metadata": {
    "tags": []
   },
   "outputs": [],
   "source": [
    "df.to_csv(\"df_template.csv\" ,index=False)"
   ]
  }
 ],
 "metadata": {
  "kernelspec": {
   "display_name": "Python 3 (ipykernel)",
   "language": "python",
   "name": "python3"
  },
  "language_info": {
   "codemirror_mode": {
    "name": "ipython",
    "version": 3
   },
   "file_extension": ".py",
   "mimetype": "text/x-python",
   "name": "python",
   "nbconvert_exporter": "python",
   "pygments_lexer": "ipython3",
   "version": "3.9.7"
  }
 },
 "nbformat": 4,
 "nbformat_minor": 5
}
