{
 "cells": [
  {
   "cell_type": "code",
   "execution_count": 2,
   "id": "e213c18e-8ba1-49c9-a901-5ee3598d7849",
   "metadata": {
    "tags": []
   },
   "outputs": [],
   "source": [
    "from selenium import webdriver\n",
    "from selenium.webdriver.chrome.service import Service"
   ]
  },
  {
   "cell_type": "markdown",
   "id": "e85db41f-2f4e-4125-825b-76363de75344",
   "metadata": {},
   "source": [
    "<p>ChromeDriver is a separate executable that Selenium WebDriver uses to control Chrome. It is maintained by the Chromium team with help from WebDriver contributors. If you are unfamiliar with Selenium WebDriver, you should check out the <a href=\"https://www.selenium.dev/\">Selenium site</a>.</p>"
   ]
  },
  {
   "cell_type": "markdown",
   "id": "701dc4bf-14d1-4a99-a971-4623357516d6",
   "metadata": {},
   "source": [
    "https://googlechromelabs.github.io/chrome-for-testing/"
   ]
  },
  {
   "cell_type": "code",
   "execution_count": null,
   "id": "ce16896a-980a-4a70-b152-f1fc076dac70",
   "metadata": {},
   "outputs": [],
   "source": [
    "service = Service(\" \")\n",
    "driver= webdriver.Chrome(service=service)"
   ]
  }
 ],
 "metadata": {
  "kernelspec": {
   "display_name": "Python 3 (ipykernel)",
   "language": "python",
   "name": "python3"
  },
  "language_info": {
   "codemirror_mode": {
    "name": "ipython",
    "version": 3
   },
   "file_extension": ".py",
   "mimetype": "text/x-python",
   "name": "python",
   "nbconvert_exporter": "python",
   "pygments_lexer": "ipython3",
   "version": "3.9.7"
  }
 },
 "nbformat": 4,
 "nbformat_minor": 5
}
