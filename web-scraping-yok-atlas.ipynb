{
 "cells": [
  {
   "cell_type": "code",
   "execution_count": 3,
   "id": "e213c18e-8ba1-49c9-a901-5ee3598d7849",
   "metadata": {
    "tags": []
   },
   "outputs": [],
   "source": [
    "from selenium import webdriver\n",
    "from selenium.webdriver.chrome.service import Service\n",
    "from selenium.webdriver.common.by import By\n",
    "from selenium.webdriver.support.ui import Select\n",
    "from selenium.webdriver.common.action_chains import ActionChains\n",
    "from selenium.webdriver.support.ui import WebDriverWait\n",
    "from selenium.webdriver.support import expected_conditions as EC\n",
    "\n",
    "import pandas as pd\n",
    "import time"
   ]
  },
  {
   "cell_type": "markdown",
   "id": "e85db41f-2f4e-4125-825b-76363de75344",
   "metadata": {},
   "source": [
    "<p>ChromeDriver is a separate executable that Selenium WebDriver uses to control Chrome. It is maintained by the Chromium team with help from WebDriver contributors. If you are unfamiliar with Selenium WebDriver, you should check out the <a href=\"https://www.selenium.dev/\">Selenium site</a>.</p>"
   ]
  },
  {
   "cell_type": "markdown",
   "id": "701dc4bf-14d1-4a99-a971-4623357516d6",
   "metadata": {},
   "source": [
    "https://googlechromelabs.github.io/chrome-for-testing/"
   ]
  },
  {
   "cell_type": "markdown",
   "id": "2e86bdfc-6a6b-4984-8ace-4eaeb442b114",
   "metadata": {},
   "source": [
    "# 1. Create df_state_universities dataframe.\n",
    "#### Index of the dataframe is university code and the single column is the university name."
   ]
  },
  {
   "cell_type": "code",
   "execution_count": 15,
   "id": "9feaf550-727c-442d-adec-b05eb3c8673e",
   "metadata": {
    "tags": []
   },
   "outputs": [
    {
     "data": {
      "text/html": [
       "<div>\n",
       "<style scoped>\n",
       "    .dataframe tbody tr th:only-of-type {\n",
       "        vertical-align: middle;\n",
       "    }\n",
       "\n",
       "    .dataframe tbody tr th {\n",
       "        vertical-align: top;\n",
       "    }\n",
       "\n",
       "    .dataframe thead th {\n",
       "        text-align: right;\n",
       "    }\n",
       "</style>\n",
       "<table border=\"1\" class=\"dataframe\">\n",
       "  <thead>\n",
       "    <tr style=\"text-align: right;\">\n",
       "      <th></th>\n",
       "      <th>uni_code</th>\n",
       "      <th>type</th>\n",
       "      <th>name</th>\n",
       "    </tr>\n",
       "  </thead>\n",
       "  <tbody>\n",
       "    <tr>\n",
       "      <th>0</th>\n",
       "      <td>1065</td>\n",
       "      <td>Devlet</td>\n",
       "      <td>ABDULLAH GÜL ÜNİVERSİTESİ</td>\n",
       "    </tr>\n",
       "    <tr>\n",
       "      <th>1</th>\n",
       "      <td>1104</td>\n",
       "      <td>Devlet</td>\n",
       "      <td>ADANA ALPARSLAN TÜRKEŞ BİLİM VE TEKNOLOJİ ÜNİV...</td>\n",
       "    </tr>\n",
       "    <tr>\n",
       "      <th>2</th>\n",
       "      <td>1002</td>\n",
       "      <td>Devlet</td>\n",
       "      <td>ADIYAMAN ÜNİVERSİTESİ</td>\n",
       "    </tr>\n",
       "  </tbody>\n",
       "</table>\n",
       "</div>"
      ],
      "text/plain": [
       "   uni_code    type                                               name\n",
       "0      1065  Devlet                          ABDULLAH GÜL ÜNİVERSİTESİ\n",
       "1      1104  Devlet  ADANA ALPARSLAN TÜRKEŞ BİLİM VE TEKNOLOJİ ÜNİV...\n",
       "2      1002  Devlet                              ADIYAMAN ÜNİVERSİTESİ"
      ]
     },
     "execution_count": 15,
     "metadata": {},
     "output_type": "execute_result"
    }
   ],
   "source": [
    "service = Service(\"chromedriver.exe\")\n",
    "driver= webdriver.Chrome(service=service)\n",
    "driver.get(\"https://yokatlas.yok.gov.tr/lisans-anasayfa.php\")\n",
    "driver.maximize_window()\n",
    "driver.implicitly_wait(5)\n",
    "optgroups = driver.find_elements(by=By.XPATH,value=\"//optgroup[@label]\")[:4]\n",
    "labels = [optgroup.get_attribute(\"label\").split()[0]   for optgroup in optgroups]\n",
    "universities = { }\n",
    " \n",
    "for label , optgroup in zip(labels,optgroups):\n",
    "    options = optgroup.find_elements (by=By.TAG_NAME,value=\"option\")\n",
    "    universities[label] = {int(option.get_attribute(\"value\")):option.get_attribute(\"innerText\").strip()  for option in options}\n",
    "df_universities =pd.DataFrame.from_dict(universities).stack().to_frame().reset_index()\n",
    "df_universities.columns = [\"uni_code\",\"type\",\"name\"]\n",
    "df_universities.head(3)  "
   ]
  },
  {
   "cell_type": "markdown",
   "id": "c0be630f-73af-4057-b810-68ff8bd9a618",
   "metadata": {},
   "source": [
    "# 2- Add the city column\n",
    "#### Create new data frame with columns city name and university name"
   ]
  },
  {
   "cell_type": "code",
   "execution_count": null,
   "id": "f2767fdd-6bb0-474f-8a08-d34b5911a299",
   "metadata": {
    "tags": []
   },
   "outputs": [],
   "source": [
    "driver.get(\"https://yokatlas.yok.gov.tr/universite.php\")\n",
    "driver.implicitly_wait(10)\n",
    "city_web_elements = driver.find_elements(by=By.CLASS_NAME, value=\"sehir\")\n",
    "\n",
    "cities = [web_element.get_attribute(\"innerText\").strip() for web_element in city_web_elements]\n",
    "\n",
    "name_web_elements = driver.find_elements(by=By.CLASS_NAME, value=\"baslik\")\n",
    "names =[web_element.get_attribute(\"innerText\").strip() for web_element in name_web_elements]\n",
    "df_city = pd.DataFrame({\"city\":cities,\"name\":names})\n",
    "df_city.head(3)"
   ]
  },
  {
   "cell_type": "markdown",
   "id": "601883e0-34d2-4222-a1d4-b4dbc2c44896",
   "metadata": {},
   "source": [
    "Merge two dataframes: df_state_universities and df_city"
   ]
  },
  {
   "cell_type": "code",
   "execution_count": null,
   "id": "9ba780a4-c03b-4799-9f99-23515ef91741",
   "metadata": {
    "tags": []
   },
   "outputs": [],
   "source": [
    "#df_universities=df_universities.merge(df_city, on=\"name\", how='left').set_index(\"uni_code\")\n",
    "#df_universities.head(3)"
   ]
  },
  {
   "cell_type": "code",
   "execution_count": null,
   "id": "af324c54-e5eb-4c39-8a8c-e478f25ec94d",
   "metadata": {
    "tags": []
   },
   "outputs": [],
   "source": [
    "df_universities.shape"
   ]
  },
  {
   "cell_type": "code",
   "execution_count": null,
   "id": "4dd89cfa-57a3-4a22-99cf-55bb8e484553",
   "metadata": {
    "tags": []
   },
   "outputs": [],
   "source": [
    "df_universities.set_index([df_universities.columns[1],df_universities.columns[0] ],inplace=True) \n",
    "df_universities.head(3)  "
   ]
  },
  {
   "cell_type": "code",
   "execution_count": null,
   "id": "3b393185-3ee3-40e0-b565-973088b22bd4",
   "metadata": {
    "tags": []
   },
   "outputs": [],
   "source": [
    "df_universities.to_csv(\"df_universities.csv\")"
   ]
  },
  {
   "cell_type": "markdown",
   "id": "150047cc-f862-4e06-8529-17a1f134aa49",
   "metadata": {},
   "source": [
    "# 3- Create df_quota \n",
    "### df_quota includes all departments and their quota/enrollments "
   ]
  },
  {
   "cell_type": "code",
   "execution_count": 29,
   "id": "12e4b2f7-22b3-4549-ae56-3b476d2581c3",
   "metadata": {
    "tags": []
   },
   "outputs": [
    {
     "data": {
      "text/html": [
       "<div>\n",
       "<style scoped>\n",
       "    .dataframe tbody tr th:only-of-type {\n",
       "        vertical-align: middle;\n",
       "    }\n",
       "\n",
       "    .dataframe tbody tr th {\n",
       "        vertical-align: top;\n",
       "    }\n",
       "\n",
       "    .dataframe thead th {\n",
       "        text-align: right;\n",
       "    }\n",
       "</style>\n",
       "<table border=\"1\" class=\"dataframe\">\n",
       "  <thead>\n",
       "    <tr style=\"text-align: right;\">\n",
       "      <th></th>\n",
       "      <th>type</th>\n",
       "      <th>name</th>\n",
       "      <th>city</th>\n",
       "    </tr>\n",
       "    <tr>\n",
       "      <th>uni_code</th>\n",
       "      <th></th>\n",
       "      <th></th>\n",
       "      <th></th>\n",
       "    </tr>\n",
       "  </thead>\n",
       "  <tbody>\n",
       "    <tr>\n",
       "      <th>1065</th>\n",
       "      <td>Devlet</td>\n",
       "      <td>ABDULLAH GÜL ÜNİVERSİTESİ</td>\n",
       "      <td>Kayseri</td>\n",
       "    </tr>\n",
       "    <tr>\n",
       "      <th>1104</th>\n",
       "      <td>Devlet</td>\n",
       "      <td>ADANA ALPARSLAN TÜRKEŞ BİLİM VE TEKNOLOJİ ÜNİV...</td>\n",
       "      <td>Adana</td>\n",
       "    </tr>\n",
       "    <tr>\n",
       "      <th>1002</th>\n",
       "      <td>Devlet</td>\n",
       "      <td>ADIYAMAN ÜNİVERSİTESİ</td>\n",
       "      <td>Adıyaman</td>\n",
       "    </tr>\n",
       "    <tr>\n",
       "      <th>1004</th>\n",
       "      <td>Devlet</td>\n",
       "      <td>AFYON KOCATEPE ÜNİVERSİTESİ</td>\n",
       "      <td>Afyonkarahisar</td>\n",
       "    </tr>\n",
       "    <tr>\n",
       "      <th>1126</th>\n",
       "      <td>Devlet</td>\n",
       "      <td>AFYONKARAHİSAR SAĞLIK BİLİMLERİ ÜNİVERSİTESİ</td>\n",
       "      <td>Afyonkarahisar</td>\n",
       "    </tr>\n",
       "  </tbody>\n",
       "</table>\n",
       "</div>"
      ],
      "text/plain": [
       "            type                                               name  \\\n",
       "uni_code                                                              \n",
       "1065      Devlet                          ABDULLAH GÜL ÜNİVERSİTESİ   \n",
       "1104      Devlet  ADANA ALPARSLAN TÜRKEŞ BİLİM VE TEKNOLOJİ ÜNİV...   \n",
       "1002      Devlet                              ADIYAMAN ÜNİVERSİTESİ   \n",
       "1004      Devlet                        AFYON KOCATEPE ÜNİVERSİTESİ   \n",
       "1126      Devlet       AFYONKARAHİSAR SAĞLIK BİLİMLERİ ÜNİVERSİTESİ   \n",
       "\n",
       "                    city  \n",
       "uni_code                  \n",
       "1065             Kayseri  \n",
       "1104               Adana  \n",
       "1002            Adıyaman  \n",
       "1004      Afyonkarahisar  \n",
       "1126      Afyonkarahisar  "
      ]
     },
     "execution_count": 29,
     "metadata": {},
     "output_type": "execute_result"
    }
   ],
   "source": [
    "df_universities = pd.read_csv(\"df_universities.csv\",index_col=0)\n",
    "df_universities.head()"
   ]
  },
  {
   "cell_type": "code",
   "execution_count": 1,
   "id": "49c82622-e05d-493f-85f3-d8506b422fed",
   "metadata": {
    "tags": []
   },
   "outputs": [],
   "source": [
    "base_url = \"https://yokatlas.yok.gov.tr/lisans-univ.php?u=\""
   ]
  },
  {
   "cell_type": "code",
   "execution_count": 17,
   "id": "ce16896a-980a-4a70-b152-f1fc076dac70",
   "metadata": {},
   "outputs": [],
   "source": [
    "def get_department_names(driver,base_url, uni_codes):\n",
    "    department_names = set()\n",
    "    for uni_code in uni_codes:\n",
    "        driver.get(base_url + str(uni_code) )  \n",
    "        driver.implicitly_wait(2)\n",
    "        divs_departments =  driver.find_elements(by=By.XPATH, value=\"//a[@data-parent='#']/div\")\n",
    "        for div_department  in divs_departments:\n",
    "            department_name = div_department.get_attribute(\"innerText\")\n",
    "            if \"KKTC\" not in department_name:\n",
    "                department_names.add(department_name) \n",
    "                \n",
    "    return department_names    "
   ]
  },
  {
   "cell_type": "code",
   "execution_count": 18,
   "id": "92d110c4-dc0a-4ac8-a5fe-dcfd21f901f0",
   "metadata": {
    "tags": []
   },
   "outputs": [
    {
     "data": {
      "text/html": [
       "<div>\n",
       "<style scoped>\n",
       "    .dataframe tbody tr th:only-of-type {\n",
       "        vertical-align: middle;\n",
       "    }\n",
       "\n",
       "    .dataframe tbody tr th {\n",
       "        vertical-align: top;\n",
       "    }\n",
       "\n",
       "    .dataframe thead th {\n",
       "        text-align: right;\n",
       "    }\n",
       "</style>\n",
       "<table border=\"1\" class=\"dataframe\">\n",
       "  <thead>\n",
       "    <tr style=\"text-align: right;\">\n",
       "      <th></th>\n",
       "      <th>uni_code</th>\n",
       "      <th>type</th>\n",
       "      <th>name</th>\n",
       "    </tr>\n",
       "  </thead>\n",
       "  <tbody>\n",
       "    <tr>\n",
       "      <th>0</th>\n",
       "      <td>1065</td>\n",
       "      <td>Devlet</td>\n",
       "      <td>ABDULLAH GÜL ÜNİVERSİTESİ</td>\n",
       "    </tr>\n",
       "    <tr>\n",
       "      <th>1</th>\n",
       "      <td>1104</td>\n",
       "      <td>Devlet</td>\n",
       "      <td>ADANA ALPARSLAN TÜRKEŞ BİLİM VE TEKNOLOJİ ÜNİV...</td>\n",
       "    </tr>\n",
       "    <tr>\n",
       "      <th>2</th>\n",
       "      <td>1002</td>\n",
       "      <td>Devlet</td>\n",
       "      <td>ADIYAMAN ÜNİVERSİTESİ</td>\n",
       "    </tr>\n",
       "  </tbody>\n",
       "</table>\n",
       "</div>"
      ],
      "text/plain": [
       "   uni_code    type                                               name\n",
       "0      1065  Devlet                          ABDULLAH GÜL ÜNİVERSİTESİ\n",
       "1      1104  Devlet  ADANA ALPARSLAN TÜRKEŞ BİLİM VE TEKNOLOJİ ÜNİV...\n",
       "2      1002  Devlet                              ADIYAMAN ÜNİVERSİTESİ"
      ]
     },
     "execution_count": 18,
     "metadata": {},
     "output_type": "execute_result"
    }
   ],
   "source": [
    " df_universities.head(3)"
   ]
  },
  {
   "cell_type": "code",
   "execution_count": 19,
   "id": "6212e078-0e04-485e-8ad2-af54b2d29b9c",
   "metadata": {
    "tags": []
   },
   "outputs": [
    {
     "data": {
      "text/plain": [
       "1545"
      ]
     },
     "execution_count": 19,
     "metadata": {},
     "output_type": "execute_result"
    }
   ],
   "source": [
    "department_names = get_department_names(driver,base_url, df_universities[\"uni_code\"])\n",
    "len(department_names)"
   ]
  },
  {
   "cell_type": "code",
   "execution_count": 35,
   "id": "a96a9d4d-3087-4bf6-8e0b-a30a0cc779c1",
   "metadata": {
    "tags": []
   },
   "outputs": [
    {
     "ename": "NameError",
     "evalue": "name 'department_names' is not defined",
     "output_type": "error",
     "traceback": [
      "\u001b[1;31m---------------------------------------------------------------------------\u001b[0m",
      "\u001b[1;31mNameError\u001b[0m                                 Traceback (most recent call last)",
      "\u001b[1;32m~\\AppData\\Local\\Temp\\ipykernel_25896\\3428307303.py\u001b[0m in \u001b[0;36m<module>\u001b[1;34m\u001b[0m\n\u001b[1;32m----> 1\u001b[1;33m \u001b[0mdepartment_names\u001b[0m \u001b[1;33m=\u001b[0m \u001b[0mlist\u001b[0m\u001b[1;33m(\u001b[0m\u001b[0mdepartment_names\u001b[0m\u001b[1;33m)\u001b[0m\u001b[1;33m\u001b[0m\u001b[1;33m\u001b[0m\u001b[0m\n\u001b[0m\u001b[0;32m      2\u001b[0m \u001b[0mdepartment_names\u001b[0m\u001b[1;33m.\u001b[0m\u001b[0msort\u001b[0m\u001b[1;33m(\u001b[0m\u001b[1;33m)\u001b[0m\u001b[1;33m\u001b[0m\u001b[1;33m\u001b[0m\u001b[0m\n\u001b[0;32m      3\u001b[0m \u001b[0mmidx\u001b[0m \u001b[1;33m=\u001b[0m \u001b[0mpd\u001b[0m\u001b[1;33m.\u001b[0m\u001b[0mMultiIndex\u001b[0m\u001b[1;33m.\u001b[0m\u001b[0mfrom_product\u001b[0m\u001b[1;33m(\u001b[0m\u001b[1;33m[\u001b[0m \u001b[0mdepartment_names\u001b[0m\u001b[1;33m,\u001b[0m \u001b[1;33m[\u001b[0m\u001b[1;34m\"quota\"\u001b[0m\u001b[1;33m,\u001b[0m\u001b[1;34m\"enrollments\"\u001b[0m\u001b[1;33m]\u001b[0m  \u001b[1;33m]\u001b[0m\u001b[1;33m)\u001b[0m\u001b[1;33m\u001b[0m\u001b[1;33m\u001b[0m\u001b[0m\n\u001b[0;32m      4\u001b[0m \u001b[0mdf_quota\u001b[0m \u001b[1;33m=\u001b[0m \u001b[0mpd\u001b[0m\u001b[1;33m.\u001b[0m\u001b[0mDataFrame\u001b[0m\u001b[1;33m(\u001b[0m\u001b[0mindex\u001b[0m \u001b[1;33m=\u001b[0m \u001b[0mmidx\u001b[0m\u001b[1;33m,\u001b[0m\u001b[0mcolumns\u001b[0m\u001b[1;33m=\u001b[0m\u001b[0mdf_universities\u001b[0m\u001b[1;33m.\u001b[0m\u001b[0mindex\u001b[0m\u001b[1;33m)\u001b[0m\u001b[1;33m\u001b[0m\u001b[1;33m\u001b[0m\u001b[0m\n\u001b[0;32m      5\u001b[0m \u001b[0mdf_quota\u001b[0m\u001b[1;33m.\u001b[0m\u001b[0mhead\u001b[0m\u001b[1;33m(\u001b[0m\u001b[1;33m)\u001b[0m\u001b[1;33m\u001b[0m\u001b[1;33m\u001b[0m\u001b[0m\n",
      "\u001b[1;31mNameError\u001b[0m: name 'department_names' is not defined"
     ]
    }
   ],
   "source": [
    "department_names = list(department_names)\n",
    "department_names.sort()\n",
    "midx = pd.MultiIndex.from_product([ department_names, [\"quota\",\"enrollments\"]  ]) \n",
    "df_quota = pd.DataFrame(index = midx,columns=df_universities.index)\n",
    "df_quota.head()"
   ]
  },
  {
   "cell_type": "code",
   "execution_count": 25,
   "id": "80c5d330-c1ab-4eb5-994e-e89abda1449f",
   "metadata": {
    "tags": []
   },
   "outputs": [],
   "source": [
    "def get_row_content(driver,searched_text):\n",
    "    x_path = \"//tr[contains(.,\"+searched_text +\")]\"\n",
    "    td = WebDriverWait(driver, 3).until( EC.presence_of_element_located((By.XPATH, x_path)) )  \n",
    "    # Find the td element within the row_element\n",
    "    tr = td.find_element(By.XPATH, './td[last()]')  # Selecting the last td element\n",
    "    return tr.get_attribute(\"innerText\")"
   ]
  },
  {
   "cell_type": "code",
   "execution_count": 62,
   "id": "ee0d37d2-455f-4b34-9376-83d2b436c160",
   "metadata": {
    "tags": []
   },
   "outputs": [],
   "source": [
    "wait_time = .2\n",
    "imp_wait_time= .2\n",
    "def get_quota_enrolled(driver):\n",
    "    # close pop-ups\n",
    "    try:\n",
    "        pop_up_element_xpath = \"//span[@class='featherlight-close-icon featherlight-close']\"\n",
    "        WebDriverWait(driver,wait_time).until( EC.presence_of_element_located((By.XPATH,pop_up_element_xpath) )  )\n",
    "        #driver.implicitly_wait(5)\n",
    "        pop_ups = driver.find_elements(by=By.XPATH, value=pop_up_element_xpath)\n",
    "        for i in range(len(pop_ups)-1,-1,-1): \n",
    "            pop_ups[i].click() \n",
    "    except:\n",
    "        pass\n",
    "    \n",
    "    result=False\n",
    "    while not result:\n",
    "        try:\n",
    "            WebDriverWait(driver, wait_time).until( EC.presence_of_element_located((By.XPATH,\"//*[contains(text(),'Genel Bilgiler')]\") )  ).click()\n",
    "            quota = get_row_content(driver,searched_text= \"'Toplam Kontenjan'\")         \n",
    "            enrollments = get_row_content(driver,searched_text= \"'Toplam Yerleşen'\")\n",
    "   \n",
    "            result=True\n",
    "        except:\n",
    "            pass\n",
    "        \n",
    "    \n",
    "    return quota, enrollments"
   ]
  },
  {
   "cell_type": "code",
   "execution_count": 64,
   "id": "26bb1ea5-a7a1-45f9-bddd-2ecf5296af4d",
   "metadata": {
    "tags": []
   },
   "outputs": [],
   "source": [
    "def get_department_anchors_divs(driver):\n",
    "  #  time.sleep(2)\n",
    "    driver.implicitly_wait(imp_wait_time)\n",
    "    anchors          =  driver.find_elements(by=By.XPATH, value=\"//a[@data-parent='#']\") #links to departments\n",
    "   # time.sleep(2)\n",
    "    driver.implicitly_wait(imp_wait_time)\n",
    "    divs_departments =  driver.find_elements(by=By.XPATH, value=\"//a[@data-parent='#']/div\")\n",
    "    return anchors, divs_departments"
   ]
  },
  {
   "cell_type": "code",
   "execution_count": 65,
   "id": "b95d3322-c318-42be-819f-797d1c646a87",
   "metadata": {
    "tags": []
   },
   "outputs": [],
   "source": [
    "def create_df_quota(driver, df_quota,uni_code,sleep_time=2):\n",
    "    \n",
    "    driver.implicitly_wait(imp_wait_time)\n",
    "    driver.get(base_url + str(uni_code) )\n",
    "   # time.sleep(sleep_time)   \n",
    "    driver.implicitly_wait(imp_wait_time)\n",
    "    anchors, divs_departments = get_department_anchors_divs(driver)\n",
    "  #  time.sleep(sleep_time)  \n",
    "    for anchor,div_department in zip(anchors, divs_departments):\n",
    "        result=False\n",
    "        while not result:\n",
    "          #  time.sleep(sleep_time)\n",
    "            try:           \n",
    "                driver.implicitly_wait(imp_wait_time)\n",
    "                department_name = div_department.get_attribute(\"innerText\").strip()  \n",
    "                result=True\n",
    "            except:\n",
    "                print(\"Failed to get department name. uni_code:\",uni_code)\n",
    "                exit_result = create_df_quota(driver, df_quota,uni_code, 5) #recursive call to restart scraping the same page\n",
    "                if exit_result:\n",
    "                    return True\n",
    "        if \"KKTC\" not in department_name:         \n",
    "            driver.get(anchor.get_attribute(\"href\"))\n",
    "            driver.implicitly_wait(imp_wait_time)  \n",
    "            quota, enrollments =  get_quota_enrolled(driver)           \n",
    "            df_quota.loc[department_name,\"quota\"][uni_code] = int(quota)\n",
    "            df_quota.loc[department_name,\"enrollments\"][uni_code] = int(enrollments) \n",
    "            print(department_name,\"int(quota)\",int(quota),\" int(enrollments) \", int(enrollments) )    \n",
    "            driver.implicitly_wait(imp_wait_time)\n",
    "            driver.back()    \n",
    "    print(\"Completed \"+str(uni_code),end=\",\")\n",
    "    return True"
   ]
  },
  {
   "cell_type": "code",
   "execution_count": 66,
   "id": "b9282c35-8b0c-4685-bb13-0aa9dcd79da2",
   "metadata": {
    "tags": []
   },
   "outputs": [
    {
     "name": "stdout",
     "output_type": "stream",
     "text": [
      "Bilgisayar Mühendisliği (İngilizce) int(quota) 77  int(enrollments)  77\n",
      "Biyomühendislik (İngilizce) int(quota) 67  int(enrollments)  67\n",
      "Ekonomi (İngilizce) int(quota) 54  int(enrollments)  52\n",
      "Elektrik-Elektronik Mühendisliği (İngilizce) int(quota) 88  int(enrollments)  88\n",
      "Endüstri Mühendisliği (İngilizce) int(quota) 72  int(enrollments)  72\n",
      "İnşaat Mühendisliği (İngilizce) int(quota) 72  int(enrollments)  72\n",
      "İşletme (İngilizce) int(quota) 64  int(enrollments)  62\n",
      "Makine Mühendisliği (İngilizce) int(quota) 62  int(enrollments)  62\n",
      "Mimarlık (İngilizce) int(quota) 72  int(enrollments)  72\n",
      "Moleküler Biyoloji ve Genetik (İngilizce) int(quota) 64  int(enrollments)  62\n",
      "Psikoloji (İngilizce) int(quota) 64  int(enrollments)  64\n",
      "Siyaset Bilimi ve Uluslararası İlişkiler (İngilizce) int(quota) 64  int(enrollments)  64\n",
      "Completed 1065,"
     ]
    }
   ],
   "source": [
    "for uni_code in df_universities.index[:1]: #list(uni_codes):#\n",
    "    create_df_quota(driver, df_quota,uni_code)    "
   ]
  },
  {
   "cell_type": "code",
   "execution_count": null,
   "id": "6fe4f84e-0c26-4ea8-bb83-c833e374adad",
   "metadata": {
    "tags": []
   },
   "outputs": [],
   "source": [
    "df_quota.info()"
   ]
  },
  {
   "cell_type": "code",
   "execution_count": null,
   "id": "fb613d69-2cd0-4758-a228-b96a2591112c",
   "metadata": {
    "tags": []
   },
   "outputs": [],
   "source": [
    "df_quota.to_csv(\"df_quota.csv\")"
   ]
  },
  {
   "cell_type": "code",
   "execution_count": 4,
   "id": "4229f5d4-a0b5-492e-82c9-d6d92cf8eddf",
   "metadata": {
    "tags": []
   },
   "outputs": [],
   "source": [
    "service = Service(\"chromedriver.exe\")\n",
    "driver= webdriver.Chrome(service=service)\n",
    "driver.maximize_window()"
   ]
  },
  {
   "cell_type": "code",
   "execution_count": 52,
   "id": "2505eb13-de47-4028-9563-8d7f89f71ea4",
   "metadata": {},
   "outputs": [],
   "source": [
    "df_quota = pd.read_csv(\"df_quota.csv\",index_col=[0,1])"
   ]
  },
  {
   "cell_type": "code",
   "execution_count": 55,
   "id": "555dd7b1-8650-4727-a9eb-e734ebcf9220",
   "metadata": {
    "tags": []
   },
   "outputs": [],
   "source": [
    "df_quota.columns=[int(c) for c in df_quota.columns]"
   ]
  },
  {
   "cell_type": "code",
   "execution_count": 48,
   "id": "bc7ee265-86e9-4375-8965-c691953c189f",
   "metadata": {
    "tags": []
   },
   "outputs": [
    {
     "data": {
      "text/plain": [
       "nan"
      ]
     },
     "execution_count": 48,
     "metadata": {},
     "output_type": "execute_result"
    }
   ],
   "source": [
    "df_quota.loc['Acil Yardım ve Afet Yönetimi','quota'][\"1065\"]"
   ]
  },
  {
   "cell_type": "code",
   "execution_count": 56,
   "id": "c418d4ee-180e-40d3-a972-82ceea07b65a",
   "metadata": {
    "tags": []
   },
   "outputs": [
    {
     "data": {
      "text/plain": [
       "1065"
      ]
     },
     "execution_count": 56,
     "metadata": {},
     "output_type": "execute_result"
    }
   ],
   "source": [
    "df_quota.columns[0]"
   ]
  },
  {
   "cell_type": "code",
   "execution_count": null,
   "id": "58cf9362-19c2-4ced-bc79-14e70bb8849c",
   "metadata": {},
   "outputs": [],
   "source": []
  }
 ],
 "metadata": {
  "kernelspec": {
   "display_name": "Python 3 (ipykernel)",
   "language": "python",
   "name": "python3"
  },
  "language_info": {
   "codemirror_mode": {
    "name": "ipython",
    "version": 3
   },
   "file_extension": ".py",
   "mimetype": "text/x-python",
   "name": "python",
   "nbconvert_exporter": "python",
   "pygments_lexer": "ipython3",
   "version": "3.9.7"
  }
 },
 "nbformat": 4,
 "nbformat_minor": 5
}
